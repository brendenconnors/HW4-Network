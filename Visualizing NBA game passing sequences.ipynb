{
 "cells": [
  {
   "cell_type": "code",
   "execution_count": 76,
   "metadata": {},
   "outputs": [],
   "source": [
    "import pandas as pd\n",
    "import math\n",
    "from collections import defaultdict\n",
    "import numpy as np\n",
    "\n",
    "\n",
    "q1 = pd.read_csv('Heat_Lakers_OCT6_2020_Q1.csv',header=None)\n",
    "q2 = pd.read_csv('Heat_Lakers_OCT6_2020_Q2.csv',header=None)\n",
    "q3 = pd.read_csv('Heat_Lakers_OCT6_2020_Q3.csv',header=None)\n",
    "q4 = pd.read_csv('Heat_Lakers_OCT6_2020_Q4.csv',header=None)\n",
    "all_quarters=[q1,q2,q3,q4]"
   ]
  },
  {
   "cell_type": "markdown",
   "metadata": {},
   "source": [
    "Find all end of possesion events (make, miss, turnover, etc)"
   ]
  },
  {
   "cell_type": "code",
   "execution_count": 77,
   "metadata": {},
   "outputs": [],
   "source": [
    "game=[]\n",
    "\n",
    "for quarter in all_quarters:\n",
    "    quarter_plays=[]\n",
    "    for index,row in quarter.iterrows():\n",
    "        l = list(row)\n",
    "        l= [x for x in l if type(x)!=float]\n",
    "        quarter_plays.append(l)\n",
    "    game.append(quarter_plays)"
   ]
  },
  {
   "cell_type": "code",
   "execution_count": 78,
   "metadata": {},
   "outputs": [],
   "source": [
    "end_actions = []\n",
    "for quarter in game:\n",
    "    for play in quarter:\n",
    "        last_action=play[-1]\n",
    "        end_actions.append(last_action)\n",
    "        \n",
    "end_actions = set(end_actions)"
   ]
  },
  {
   "cell_type": "markdown",
   "metadata": {},
   "source": [
    "Denote each player node as 'initials' + 'pass layer' where pass layer is 0,1,2... depending on what position in the passing sequence they belong to."
   ]
  },
  {
   "cell_type": "code",
   "execution_count": 79,
   "metadata": {
    "scrolled": true
   },
   "outputs": [],
   "source": [
    "for quarter in all_quarters:\n",
    "    for pass_layer in quarter.columns:\n",
    "        quarter[pass_layer] = quarter[pass_layer]+str(pass_layer)"
   ]
  },
  {
   "cell_type": "markdown",
   "metadata": {},
   "source": [
    "Fix outcome events that now have the pass layer added to their string"
   ]
  },
  {
   "cell_type": "code",
   "execution_count": 80,
   "metadata": {},
   "outputs": [],
   "source": [
    "def strip_outcomes(token):\n",
    "    try:\n",
    "        if math.isnan(token):\n",
    "            return token\n",
    "    except:\n",
    "        pass\n",
    "    \n",
    "    if token[:-1] in end_actions:\n",
    "        return token[:-1]\n",
    "    else:\n",
    "        return token"
   ]
  },
  {
   "cell_type": "code",
   "execution_count": 81,
   "metadata": {},
   "outputs": [],
   "source": [
    "for quarter in all_quarters:\n",
    "    for pass_layer in quarter.columns:\n",
    "        quarter[pass_layer] = quarter[pass_layer].apply(lambda x: strip_outcomes(x))"
   ]
  },
  {
   "cell_type": "code",
   "execution_count": 82,
   "metadata": {},
   "outputs": [],
   "source": [
    "game=[]\n",
    "\n",
    "for quarter in all_quarters:\n",
    "    quarter_plays=[]\n",
    "    for index,row in quarter.iterrows():\n",
    "        l = list(row)\n",
    "        l= [x for x in l if type(x)!=float]\n",
    "        quarter_plays.append(l)\n",
    "    game.append(quarter_plays)"
   ]
  },
  {
   "cell_type": "markdown",
   "metadata": {},
   "source": [
    "Get all our passing sequences into lists, we can iterate through these and get counts for each directed action"
   ]
  },
  {
   "cell_type": "code",
   "execution_count": 83,
   "metadata": {},
   "outputs": [],
   "source": [
    "transition_dict = defaultdict(lambda: defaultdict(int))\n",
    "for quarter in game:\n",
    "    for play in quarter:\n",
    "        for idx in range(len(play)-1):\n",
    "            passer = play[idx]\n",
    "            receiver = play[idx+1]\n",
    "            transition_dict[passer][receiver]+=1"
   ]
  },
  {
   "cell_type": "code",
   "execution_count": 84,
   "metadata": {},
   "outputs": [],
   "source": [
    "connections = pd.DataFrame(columns=list(transition_dict.keys()),index=list(transition_dict.keys()))\n",
    "\n",
    "for passer in transition_dict.keys():\n",
    "    for receiver in transition_dict[passer].keys():\n",
    "        if receiver in end_actions:\n",
    "            continue\n",
    "        connections.loc[passer,receiver]=transition_dict[passer][receiver]\n"
   ]
  },
  {
   "cell_type": "code",
   "execution_count": 385,
   "metadata": {},
   "outputs": [
    {
     "name": "stdout",
     "output_type": "stream",
     "text": [
      "Jimmy Butler accounted for 73.33333333333333 of initializations\n"
     ]
    }
   ],
   "source": [
    "all_initializations=0\n",
    "for key in transition_dict.keys():\n",
    "    if key[-1]==str(0):\n",
    "        all_initializations+=sum(list(transition_dict[key].values()))\n",
    "\n",
    "print('Jimmy Butler accounted for ' +str(100*sum(list(transition_dict['JB0'].values()))/all_initializations)+' of initializations')"
   ]
  },
  {
   "cell_type": "markdown",
   "metadata": {},
   "source": [
    "Get rid of possesions not started by Jimmy Butler"
   ]
  },
  {
   "cell_type": "code",
   "execution_count": 86,
   "metadata": {},
   "outputs": [
    {
     "data": {
      "text/plain": [
       "defaultdict(int,\n",
       "            {'TH2': 1,\n",
       "             'NO PLAY': 1,\n",
       "             'AND_ONE': 1,\n",
       "             'DR2': 1,\n",
       "             'BA2': 2,\n",
       "             'KN2': 2,\n",
       "             'FT': 1})"
      ]
     },
     "execution_count": 86,
     "metadata": {},
     "output_type": "execute_result"
    }
   ],
   "source": [
    "jimmy_dict = transition_dict.copy()\n",
    "jimmy_dict.pop('TH0')\n",
    "jimmy_dict.pop('JC0')\n",
    "jimmy_dict.pop('AI0')\n",
    "jimmy_dict.pop('KN0')\n",
    "jimmy_dict.pop('BA0')\n",
    "jimmy_dict.pop('JB1')"
   ]
  },
  {
   "cell_type": "code",
   "execution_count": 87,
   "metadata": {},
   "outputs": [],
   "source": [
    "connections = pd.DataFrame(columns=list(jimmy_dict.keys()),index=list(jimmy_dict.keys()))\n",
    "\n",
    "for passer in jimmy_dict.keys():\n",
    "    for receiver in jimmy_dict[passer].keys():\n",
    "        if receiver in end_actions:\n",
    "            continue\n",
    "        connections.loc[passer,receiver]=jimmy_dict[passer][receiver]"
   ]
  },
  {
   "cell_type": "code",
   "execution_count": 89,
   "metadata": {},
   "outputs": [],
   "source": [
    "id_mapper={}\n",
    "\n",
    "all_labels=[]\n",
    "for key in jimmy_dict.keys():\n",
    "    for key2 in jimmy_dict[key].keys():\n",
    "        all_labels.append(key)\n",
    "        all_labels.append(key2)\n",
    "        \n",
    "all_labels=set(all_labels)\n",
    "all_labels = [label for label in all_labels if label not in end_actions]\n",
    "\n",
    "n=0\n",
    "for label in all_labels:\n",
    "    id_mapper[label]=n\n",
    "    n+=1"
   ]
  },
  {
   "cell_type": "code",
   "execution_count": 90,
   "metadata": {},
   "outputs": [],
   "source": [
    "reverse_mapper={}\n",
    "\n",
    "for key,value in id_mapper.items():\n",
    "    reverse_mapper[value]=key\n",
    "    "
   ]
  },
  {
   "cell_type": "code",
   "execution_count": 121,
   "metadata": {},
   "outputs": [],
   "source": [
    "name_mapper={'JB':'Butler','DR':'Robinson','TH':'Herro','JC':'Crowder','BA':'Adebayo','AI':'Iguodala','KN':'Nunn'}\n",
    "color_mapper={'JB': 'red','DR':'white','TH':'black','JC':'grey','BA':'yellow','AI':'orange','KN':'brown'}"
   ]
  },
  {
   "cell_type": "code",
   "execution_count": 91,
   "metadata": {},
   "outputs": [],
   "source": [
    "def find_indexes(labels,layer):\n",
    "    idx_list=[]\n",
    "    layer=str(layer)\n",
    "    for idx,label in enumerate(labels):\n",
    "        if layer in label:\n",
    "            idx_list.append(idx)\n",
    "            \n",
    "    return idx_list"
   ]
  },
  {
   "cell_type": "code",
   "execution_count": 199,
   "metadata": {},
   "outputs": [],
   "source": [
    "\n",
    "\n",
    "source=[]\n",
    "target=[]\n",
    "value=[]\n",
    "for passer in jimmy_dict.keys():\n",
    "    for receiver in transition_dict[passer].keys():\n",
    "        if receiver in end_actions:\n",
    "            continue\n",
    "        source.append(id_mapper[passer])\n",
    "        target.append(id_mapper[receiver])\n",
    "        value.append(transition_dict[passer][receiver])\n",
    "        \n",
    "        \n",
    "labels = [reverse_mapper[x] for x in range(len(id_mapper.keys()))]\n",
    "x_pos = [int(x[-1])/6 for x in labels]\n",
    "\n",
    "\n",
    "\n",
    "y_pos=[0 for x in range(len(x_pos))] #initialize list of zeros\n",
    "\n",
    "\n",
    "nodes_in_layer=defaultdict(int)\n",
    "for label in labels:\n",
    "    passing_layer=int(label[-1])\n",
    "    nodes_in_layer[passing_layer]+=1\n",
    "    \n",
    "fixed_labels = [name_mapper[initials[:-1]] for initials in labels]\n",
    "colors = [color_mapper[initials[:-1]] for initials in labels]\n",
    "\n",
    "for layer in nodes_in_layer.keys():\n",
    "    idx_list = find_indexes(labels,layer)\n",
    "    n=0\n",
    "    for idx in idx_list:\n",
    "        position=n/len(idx_list)\n",
    "        y_pos[idx]=position\n",
    "        n+=1\n",
    "\n",
    "#Replace y values of 0 with small value, prevents layer shift\n",
    "for idx,y in enumerate(y_pos):\n",
    "    if y==0:\n",
    "        y_pos[idx]=0.05\n",
    "\n",
    "\n",
    "turnovers=[]\n",
    "makes=[]\n",
    "misses=[]\n",
    "drew_fouls=[]\n",
    "\n",
    "\n",
    "for label in labels:\n",
    "    drew_foul=0\n",
    "    make=0\n",
    "    miss=0\n",
    "    turnover=0\n",
    "    for ending in end_actions:\n",
    "        if ending in ['AND_ONE', 'FOUL NON-SHOOTING','FT']:\n",
    "            drew_foul += jimmy_dict[label][ending]\n",
    "        \n",
    "        if ending in ['AND_ONE','MAKE']:\n",
    "            make+=jimmy_dict[label][ending]\n",
    "            \n",
    "        if ending in ['TURNOVER']:\n",
    "            turnover+=jimmy_dict[label][ending]\n",
    "            \n",
    "        if ending in ['MISS']:\n",
    "                miss+=jimmy_dict[label][ending]\n",
    "                \n",
    "    turnovers.append(turnover)\n",
    "    makes.append(make)\n",
    "    misses.append(miss)\n",
    "    drew_fouls.append(drew_foul)\n",
    "\n",
    "shooting_percentages=[]\n",
    "for i in range(len(misses)):\n",
    "    try:\n",
    "        percentage = 100*makes[i]/(makes[i]+misses[i])\n",
    "    except:\n",
    "        percentage = 'NA'\n",
    "        \n",
    "    shooting_percentages.append(percentage)\n",
    "    \n",
    "all_data=[]\n",
    "for i in range(len(turnovers)):\n",
    "    all_data.append([turnovers[i],makes[i],misses[i],drew_fouls[i],shooting_percentages[i]])\n",
    "    "
   ]
  },
  {
   "cell_type": "code",
   "execution_count": 266,
   "metadata": {},
   "outputs": [],
   "source": [
    "turnovers_by_layer=[]\n",
    "metric='TURNOVER'\n",
    "for layer in range(len(nodes_in_layer.keys())):\n",
    "    stat=0\n",
    "    for key in jimmy_dict.keys():\n",
    "        if key[-1]==str(layer):\n",
    "            stat+=(jimmy_dict[key][metric])\n",
    "    turnovers_by_layer.append(stat)\n",
    "        \n",
    "makes_by_layer=[]\n",
    "metric='MAKE'\n",
    "metric2='AND_ONE'\n",
    "for layer in range(len(nodes_in_layer.keys())):\n",
    "    stat=0\n",
    "    for key in jimmy_dict.keys():\n",
    "        if key[-1]==str(layer):\n",
    "            stat+=(jimmy_dict[key][metric])\n",
    "            stat+=(jimmy_dict[key][metric2])\n",
    "    makes_by_layer.append(stat)\n",
    "\n",
    "misses_by_layer=[]\n",
    "metric='MISS'\n",
    "for layer in range(len(nodes_in_layer.keys())):\n",
    "    stat=0\n",
    "    for key in jimmy_dict.keys():\n",
    "        if key[-1]==str(layer):\n",
    "            stat+=(jimmy_dict[key][metric])\n",
    "    misses_by_layer.append(stat)\n",
    "    \n",
    "fouls_drawn_by_layer=[]\n",
    "metric='FT'\n",
    "metric2='FOUL NON-SHOOTING'\n",
    "metric3='AND_ONE'\n",
    "for layer in range(len(nodes_in_layer.keys())):\n",
    "    stat=0\n",
    "    for key in jimmy_dict.keys():\n",
    "        if key[-1]==str(layer):\n",
    "            stat+=(jimmy_dict[key][metric])\n",
    "            stat+=(jimmy_dict[key][metric2])\n",
    "            stat+=(jimmy_dict[key][metric3])\n",
    "    fouls_drawn_by_layer.append(stat)\n",
    "    \n",
    "possesions_by_layer=[]\n",
    "for layer in range(len(nodes_in_layer.keys())):\n",
    "    possesions=0\n",
    "    for key in jimmy_dict.keys():\n",
    "        \n",
    "        if key[-1]==str(layer):\n",
    "            possesions+=sum(list(jimmy_dict[key].values()))\n",
    "    possesions_by_layer.append(possesions)\n",
    "    \n",
    "shooting_percentage_by_layer=[makes_by_layer[i]/(makes_by_layer[i]+misses_by_layer[i]) for i in range(len(makes_by_layer))]\n",
    "turnover_rate_by_layer = [turnovers_by_layer[i]/possesions_by_layer[i] for i in range(len(makes_by_layer))]\n",
    "attempts_by_layer=[makes_by_layer[i]+misses_by_layer[i] for i in range(len(makes_by_layer))]"
   ]
  },
  {
   "cell_type": "code",
   "execution_count": 355,
   "metadata": {},
   "outputs": [
    {
     "data": {
      "application/vnd.plotly.v1+json": {
       "config": {
        "plotlyServerURL": "https://plot.ly"
       },
       "data": [
        {
         "cells": {
          "values": [
           [
            "<b>Possesions</b>",
            "<b>Fouls Drawn</b>",
            "<b>FGA</b>",
            "<b>Shooting %</b>",
            "<b>Turnovers</b>",
            "<b>Turnover per Possesion</b>"
           ],
           [
            77,
            5,
            7,
            28.6,
            3,
            0.039
           ],
           [
            79,
            3,
            25,
            52,
            3,
            0.038
           ],
           [
            52,
            3,
            21,
            42.9,
            2,
            0.038
           ],
           [
            24,
            2,
            7,
            71.4,
            4,
            0.17
           ],
           [
            12,
            2,
            6,
            16.7,
            0,
            0
           ],
           [
            4,
            0,
            3,
            66.7,
            0,
            0
           ],
           [
            1,
            0,
            1,
            100,
            0,
            0
           ]
          ]
         },
         "header": {
          "values": [
           "",
           "<b>0th pass</b>",
           "<b>1st pass</b>",
           "<b>2nd pass</b>",
           "<b>3rd pass</b>",
           "<b>4th pass</b>",
           "<b>5th pass</b>",
           "<b>6th pass</b>"
          ]
         },
         "type": "table"
        }
       ],
       "layout": {
        "margin": {
         "t": 0
        },
        "template": {
         "data": {
          "bar": [
           {
            "error_x": {
             "color": "#2a3f5f"
            },
            "error_y": {
             "color": "#2a3f5f"
            },
            "marker": {
             "line": {
              "color": "#E5ECF6",
              "width": 0.5
             }
            },
            "type": "bar"
           }
          ],
          "barpolar": [
           {
            "marker": {
             "line": {
              "color": "#E5ECF6",
              "width": 0.5
             }
            },
            "type": "barpolar"
           }
          ],
          "carpet": [
           {
            "aaxis": {
             "endlinecolor": "#2a3f5f",
             "gridcolor": "white",
             "linecolor": "white",
             "minorgridcolor": "white",
             "startlinecolor": "#2a3f5f"
            },
            "baxis": {
             "endlinecolor": "#2a3f5f",
             "gridcolor": "white",
             "linecolor": "white",
             "minorgridcolor": "white",
             "startlinecolor": "#2a3f5f"
            },
            "type": "carpet"
           }
          ],
          "choropleth": [
           {
            "colorbar": {
             "outlinewidth": 0,
             "ticks": ""
            },
            "type": "choropleth"
           }
          ],
          "contour": [
           {
            "colorbar": {
             "outlinewidth": 0,
             "ticks": ""
            },
            "colorscale": [
             [
              0,
              "#0d0887"
             ],
             [
              0.1111111111111111,
              "#46039f"
             ],
             [
              0.2222222222222222,
              "#7201a8"
             ],
             [
              0.3333333333333333,
              "#9c179e"
             ],
             [
              0.4444444444444444,
              "#bd3786"
             ],
             [
              0.5555555555555556,
              "#d8576b"
             ],
             [
              0.6666666666666666,
              "#ed7953"
             ],
             [
              0.7777777777777778,
              "#fb9f3a"
             ],
             [
              0.8888888888888888,
              "#fdca26"
             ],
             [
              1,
              "#f0f921"
             ]
            ],
            "type": "contour"
           }
          ],
          "contourcarpet": [
           {
            "colorbar": {
             "outlinewidth": 0,
             "ticks": ""
            },
            "type": "contourcarpet"
           }
          ],
          "heatmap": [
           {
            "colorbar": {
             "outlinewidth": 0,
             "ticks": ""
            },
            "colorscale": [
             [
              0,
              "#0d0887"
             ],
             [
              0.1111111111111111,
              "#46039f"
             ],
             [
              0.2222222222222222,
              "#7201a8"
             ],
             [
              0.3333333333333333,
              "#9c179e"
             ],
             [
              0.4444444444444444,
              "#bd3786"
             ],
             [
              0.5555555555555556,
              "#d8576b"
             ],
             [
              0.6666666666666666,
              "#ed7953"
             ],
             [
              0.7777777777777778,
              "#fb9f3a"
             ],
             [
              0.8888888888888888,
              "#fdca26"
             ],
             [
              1,
              "#f0f921"
             ]
            ],
            "type": "heatmap"
           }
          ],
          "heatmapgl": [
           {
            "colorbar": {
             "outlinewidth": 0,
             "ticks": ""
            },
            "colorscale": [
             [
              0,
              "#0d0887"
             ],
             [
              0.1111111111111111,
              "#46039f"
             ],
             [
              0.2222222222222222,
              "#7201a8"
             ],
             [
              0.3333333333333333,
              "#9c179e"
             ],
             [
              0.4444444444444444,
              "#bd3786"
             ],
             [
              0.5555555555555556,
              "#d8576b"
             ],
             [
              0.6666666666666666,
              "#ed7953"
             ],
             [
              0.7777777777777778,
              "#fb9f3a"
             ],
             [
              0.8888888888888888,
              "#fdca26"
             ],
             [
              1,
              "#f0f921"
             ]
            ],
            "type": "heatmapgl"
           }
          ],
          "histogram": [
           {
            "marker": {
             "colorbar": {
              "outlinewidth": 0,
              "ticks": ""
             }
            },
            "type": "histogram"
           }
          ],
          "histogram2d": [
           {
            "colorbar": {
             "outlinewidth": 0,
             "ticks": ""
            },
            "colorscale": [
             [
              0,
              "#0d0887"
             ],
             [
              0.1111111111111111,
              "#46039f"
             ],
             [
              0.2222222222222222,
              "#7201a8"
             ],
             [
              0.3333333333333333,
              "#9c179e"
             ],
             [
              0.4444444444444444,
              "#bd3786"
             ],
             [
              0.5555555555555556,
              "#d8576b"
             ],
             [
              0.6666666666666666,
              "#ed7953"
             ],
             [
              0.7777777777777778,
              "#fb9f3a"
             ],
             [
              0.8888888888888888,
              "#fdca26"
             ],
             [
              1,
              "#f0f921"
             ]
            ],
            "type": "histogram2d"
           }
          ],
          "histogram2dcontour": [
           {
            "colorbar": {
             "outlinewidth": 0,
             "ticks": ""
            },
            "colorscale": [
             [
              0,
              "#0d0887"
             ],
             [
              0.1111111111111111,
              "#46039f"
             ],
             [
              0.2222222222222222,
              "#7201a8"
             ],
             [
              0.3333333333333333,
              "#9c179e"
             ],
             [
              0.4444444444444444,
              "#bd3786"
             ],
             [
              0.5555555555555556,
              "#d8576b"
             ],
             [
              0.6666666666666666,
              "#ed7953"
             ],
             [
              0.7777777777777778,
              "#fb9f3a"
             ],
             [
              0.8888888888888888,
              "#fdca26"
             ],
             [
              1,
              "#f0f921"
             ]
            ],
            "type": "histogram2dcontour"
           }
          ],
          "mesh3d": [
           {
            "colorbar": {
             "outlinewidth": 0,
             "ticks": ""
            },
            "type": "mesh3d"
           }
          ],
          "parcoords": [
           {
            "line": {
             "colorbar": {
              "outlinewidth": 0,
              "ticks": ""
             }
            },
            "type": "parcoords"
           }
          ],
          "pie": [
           {
            "automargin": true,
            "type": "pie"
           }
          ],
          "scatter": [
           {
            "marker": {
             "colorbar": {
              "outlinewidth": 0,
              "ticks": ""
             }
            },
            "type": "scatter"
           }
          ],
          "scatter3d": [
           {
            "line": {
             "colorbar": {
              "outlinewidth": 0,
              "ticks": ""
             }
            },
            "marker": {
             "colorbar": {
              "outlinewidth": 0,
              "ticks": ""
             }
            },
            "type": "scatter3d"
           }
          ],
          "scattercarpet": [
           {
            "marker": {
             "colorbar": {
              "outlinewidth": 0,
              "ticks": ""
             }
            },
            "type": "scattercarpet"
           }
          ],
          "scattergeo": [
           {
            "marker": {
             "colorbar": {
              "outlinewidth": 0,
              "ticks": ""
             }
            },
            "type": "scattergeo"
           }
          ],
          "scattergl": [
           {
            "marker": {
             "colorbar": {
              "outlinewidth": 0,
              "ticks": ""
             }
            },
            "type": "scattergl"
           }
          ],
          "scattermapbox": [
           {
            "marker": {
             "colorbar": {
              "outlinewidth": 0,
              "ticks": ""
             }
            },
            "type": "scattermapbox"
           }
          ],
          "scatterpolar": [
           {
            "marker": {
             "colorbar": {
              "outlinewidth": 0,
              "ticks": ""
             }
            },
            "type": "scatterpolar"
           }
          ],
          "scatterpolargl": [
           {
            "marker": {
             "colorbar": {
              "outlinewidth": 0,
              "ticks": ""
             }
            },
            "type": "scatterpolargl"
           }
          ],
          "scatterternary": [
           {
            "marker": {
             "colorbar": {
              "outlinewidth": 0,
              "ticks": ""
             }
            },
            "type": "scatterternary"
           }
          ],
          "surface": [
           {
            "colorbar": {
             "outlinewidth": 0,
             "ticks": ""
            },
            "colorscale": [
             [
              0,
              "#0d0887"
             ],
             [
              0.1111111111111111,
              "#46039f"
             ],
             [
              0.2222222222222222,
              "#7201a8"
             ],
             [
              0.3333333333333333,
              "#9c179e"
             ],
             [
              0.4444444444444444,
              "#bd3786"
             ],
             [
              0.5555555555555556,
              "#d8576b"
             ],
             [
              0.6666666666666666,
              "#ed7953"
             ],
             [
              0.7777777777777778,
              "#fb9f3a"
             ],
             [
              0.8888888888888888,
              "#fdca26"
             ],
             [
              1,
              "#f0f921"
             ]
            ],
            "type": "surface"
           }
          ],
          "table": [
           {
            "cells": {
             "fill": {
              "color": "#EBF0F8"
             },
             "line": {
              "color": "white"
             }
            },
            "header": {
             "fill": {
              "color": "#C8D4E3"
             },
             "line": {
              "color": "white"
             }
            },
            "type": "table"
           }
          ]
         },
         "layout": {
          "annotationdefaults": {
           "arrowcolor": "#2a3f5f",
           "arrowhead": 0,
           "arrowwidth": 1
          },
          "coloraxis": {
           "colorbar": {
            "outlinewidth": 0,
            "ticks": ""
           }
          },
          "colorscale": {
           "diverging": [
            [
             0,
             "#8e0152"
            ],
            [
             0.1,
             "#c51b7d"
            ],
            [
             0.2,
             "#de77ae"
            ],
            [
             0.3,
             "#f1b6da"
            ],
            [
             0.4,
             "#fde0ef"
            ],
            [
             0.5,
             "#f7f7f7"
            ],
            [
             0.6,
             "#e6f5d0"
            ],
            [
             0.7,
             "#b8e186"
            ],
            [
             0.8,
             "#7fbc41"
            ],
            [
             0.9,
             "#4d9221"
            ],
            [
             1,
             "#276419"
            ]
           ],
           "sequential": [
            [
             0,
             "#0d0887"
            ],
            [
             0.1111111111111111,
             "#46039f"
            ],
            [
             0.2222222222222222,
             "#7201a8"
            ],
            [
             0.3333333333333333,
             "#9c179e"
            ],
            [
             0.4444444444444444,
             "#bd3786"
            ],
            [
             0.5555555555555556,
             "#d8576b"
            ],
            [
             0.6666666666666666,
             "#ed7953"
            ],
            [
             0.7777777777777778,
             "#fb9f3a"
            ],
            [
             0.8888888888888888,
             "#fdca26"
            ],
            [
             1,
             "#f0f921"
            ]
           ],
           "sequentialminus": [
            [
             0,
             "#0d0887"
            ],
            [
             0.1111111111111111,
             "#46039f"
            ],
            [
             0.2222222222222222,
             "#7201a8"
            ],
            [
             0.3333333333333333,
             "#9c179e"
            ],
            [
             0.4444444444444444,
             "#bd3786"
            ],
            [
             0.5555555555555556,
             "#d8576b"
            ],
            [
             0.6666666666666666,
             "#ed7953"
            ],
            [
             0.7777777777777778,
             "#fb9f3a"
            ],
            [
             0.8888888888888888,
             "#fdca26"
            ],
            [
             1,
             "#f0f921"
            ]
           ]
          },
          "colorway": [
           "#636efa",
           "#EF553B",
           "#00cc96",
           "#ab63fa",
           "#FFA15A",
           "#19d3f3",
           "#FF6692",
           "#B6E880",
           "#FF97FF",
           "#FECB52"
          ],
          "font": {
           "color": "#2a3f5f"
          },
          "geo": {
           "bgcolor": "white",
           "lakecolor": "white",
           "landcolor": "#E5ECF6",
           "showlakes": true,
           "showland": true,
           "subunitcolor": "white"
          },
          "hoverlabel": {
           "align": "left"
          },
          "hovermode": "closest",
          "mapbox": {
           "style": "light"
          },
          "paper_bgcolor": "white",
          "plot_bgcolor": "#E5ECF6",
          "polar": {
           "angularaxis": {
            "gridcolor": "white",
            "linecolor": "white",
            "ticks": ""
           },
           "bgcolor": "#E5ECF6",
           "radialaxis": {
            "gridcolor": "white",
            "linecolor": "white",
            "ticks": ""
           }
          },
          "scene": {
           "xaxis": {
            "backgroundcolor": "#E5ECF6",
            "gridcolor": "white",
            "gridwidth": 2,
            "linecolor": "white",
            "showbackground": true,
            "ticks": "",
            "zerolinecolor": "white"
           },
           "yaxis": {
            "backgroundcolor": "#E5ECF6",
            "gridcolor": "white",
            "gridwidth": 2,
            "linecolor": "white",
            "showbackground": true,
            "ticks": "",
            "zerolinecolor": "white"
           },
           "zaxis": {
            "backgroundcolor": "#E5ECF6",
            "gridcolor": "white",
            "gridwidth": 2,
            "linecolor": "white",
            "showbackground": true,
            "ticks": "",
            "zerolinecolor": "white"
           }
          },
          "shapedefaults": {
           "line": {
            "color": "#2a3f5f"
           }
          },
          "ternary": {
           "aaxis": {
            "gridcolor": "white",
            "linecolor": "white",
            "ticks": ""
           },
           "baxis": {
            "gridcolor": "white",
            "linecolor": "white",
            "ticks": ""
           },
           "bgcolor": "#E5ECF6",
           "caxis": {
            "gridcolor": "white",
            "linecolor": "white",
            "ticks": ""
           }
          },
          "title": {
           "x": 0.05
          },
          "xaxis": {
           "automargin": true,
           "gridcolor": "white",
           "linecolor": "white",
           "ticks": "",
           "title": {
            "standoff": 15
           },
           "zerolinecolor": "white",
           "zerolinewidth": 2
          },
          "yaxis": {
           "automargin": true,
           "gridcolor": "white",
           "linecolor": "white",
           "ticks": "",
           "title": {
            "standoff": 15
           },
           "zerolinecolor": "white",
           "zerolinewidth": 2
          }
         }
        }
       }
      },
      "text/html": [
       "<div>\n",
       "        \n",
       "        \n",
       "            <div id=\"b7a6dacd-d997-4933-a327-3f70d64cfccf\" class=\"plotly-graph-div\" style=\"height:525px; width:100%;\"></div>\n",
       "            <script type=\"text/javascript\">\n",
       "                require([\"plotly\"], function(Plotly) {\n",
       "                    window.PLOTLYENV=window.PLOTLYENV || {};\n",
       "                    \n",
       "                if (document.getElementById(\"b7a6dacd-d997-4933-a327-3f70d64cfccf\")) {\n",
       "                    Plotly.newPlot(\n",
       "                        'b7a6dacd-d997-4933-a327-3f70d64cfccf',\n",
       "                        [{\"cells\": {\"values\": [[\"<b>Possesions</b>\", \"<b>Fouls Drawn</b>\", \"<b>FGA</b>\", \"<b>Shooting %</b>\", \"<b>Turnovers</b>\", \"<b>Turnover per Possesion</b>\"], [77, 5, 7, 28.6, 3, 0.039], [79, 3, 25, 52.0, 3, 0.038], [52, 3, 21, 42.9, 2, 0.038], [24, 2, 7, 71.4, 4, 0.17], [12, 2, 6, 16.7, 0, 0.0], [4, 0, 3, 66.7, 0, 0.0], [1, 0, 1, 100.0, 0, 0.0]]}, \"header\": {\"values\": [\"\", \"<b>0th pass</b>\", \"<b>1st pass</b>\", \"<b>2nd pass</b>\", \"<b>3rd pass</b>\", \"<b>4th pass</b>\", \"<b>5th pass</b>\", \"<b>6th pass</b>\"]}, \"type\": \"table\"}],\n",
       "                        {\"margin\": {\"t\": 0}, \"template\": {\"data\": {\"bar\": [{\"error_x\": {\"color\": \"#2a3f5f\"}, \"error_y\": {\"color\": \"#2a3f5f\"}, \"marker\": {\"line\": {\"color\": \"#E5ECF6\", \"width\": 0.5}}, \"type\": \"bar\"}], \"barpolar\": [{\"marker\": {\"line\": {\"color\": \"#E5ECF6\", \"width\": 0.5}}, \"type\": \"barpolar\"}], \"carpet\": [{\"aaxis\": {\"endlinecolor\": \"#2a3f5f\", \"gridcolor\": \"white\", \"linecolor\": \"white\", \"minorgridcolor\": \"white\", \"startlinecolor\": \"#2a3f5f\"}, \"baxis\": {\"endlinecolor\": \"#2a3f5f\", \"gridcolor\": \"white\", \"linecolor\": \"white\", \"minorgridcolor\": \"white\", \"startlinecolor\": \"#2a3f5f\"}, \"type\": \"carpet\"}], \"choropleth\": [{\"colorbar\": {\"outlinewidth\": 0, \"ticks\": \"\"}, \"type\": \"choropleth\"}], \"contour\": [{\"colorbar\": {\"outlinewidth\": 0, \"ticks\": \"\"}, \"colorscale\": [[0.0, \"#0d0887\"], [0.1111111111111111, \"#46039f\"], [0.2222222222222222, \"#7201a8\"], [0.3333333333333333, \"#9c179e\"], [0.4444444444444444, \"#bd3786\"], [0.5555555555555556, \"#d8576b\"], [0.6666666666666666, \"#ed7953\"], [0.7777777777777778, \"#fb9f3a\"], [0.8888888888888888, \"#fdca26\"], [1.0, \"#f0f921\"]], \"type\": \"contour\"}], \"contourcarpet\": [{\"colorbar\": {\"outlinewidth\": 0, \"ticks\": \"\"}, \"type\": \"contourcarpet\"}], \"heatmap\": [{\"colorbar\": {\"outlinewidth\": 0, \"ticks\": \"\"}, \"colorscale\": [[0.0, \"#0d0887\"], [0.1111111111111111, \"#46039f\"], [0.2222222222222222, \"#7201a8\"], [0.3333333333333333, \"#9c179e\"], [0.4444444444444444, \"#bd3786\"], [0.5555555555555556, \"#d8576b\"], [0.6666666666666666, \"#ed7953\"], [0.7777777777777778, \"#fb9f3a\"], [0.8888888888888888, \"#fdca26\"], [1.0, \"#f0f921\"]], \"type\": \"heatmap\"}], \"heatmapgl\": [{\"colorbar\": {\"outlinewidth\": 0, \"ticks\": \"\"}, \"colorscale\": [[0.0, \"#0d0887\"], [0.1111111111111111, \"#46039f\"], [0.2222222222222222, \"#7201a8\"], [0.3333333333333333, \"#9c179e\"], [0.4444444444444444, \"#bd3786\"], [0.5555555555555556, \"#d8576b\"], [0.6666666666666666, \"#ed7953\"], [0.7777777777777778, \"#fb9f3a\"], [0.8888888888888888, \"#fdca26\"], [1.0, \"#f0f921\"]], \"type\": \"heatmapgl\"}], \"histogram\": [{\"marker\": {\"colorbar\": {\"outlinewidth\": 0, \"ticks\": \"\"}}, \"type\": \"histogram\"}], \"histogram2d\": [{\"colorbar\": {\"outlinewidth\": 0, \"ticks\": \"\"}, \"colorscale\": [[0.0, \"#0d0887\"], [0.1111111111111111, \"#46039f\"], [0.2222222222222222, \"#7201a8\"], [0.3333333333333333, \"#9c179e\"], [0.4444444444444444, \"#bd3786\"], [0.5555555555555556, \"#d8576b\"], [0.6666666666666666, \"#ed7953\"], [0.7777777777777778, \"#fb9f3a\"], [0.8888888888888888, \"#fdca26\"], [1.0, \"#f0f921\"]], \"type\": \"histogram2d\"}], \"histogram2dcontour\": [{\"colorbar\": {\"outlinewidth\": 0, \"ticks\": \"\"}, \"colorscale\": [[0.0, \"#0d0887\"], [0.1111111111111111, \"#46039f\"], [0.2222222222222222, \"#7201a8\"], [0.3333333333333333, \"#9c179e\"], [0.4444444444444444, \"#bd3786\"], [0.5555555555555556, \"#d8576b\"], [0.6666666666666666, \"#ed7953\"], [0.7777777777777778, \"#fb9f3a\"], [0.8888888888888888, \"#fdca26\"], [1.0, \"#f0f921\"]], \"type\": \"histogram2dcontour\"}], \"mesh3d\": [{\"colorbar\": {\"outlinewidth\": 0, \"ticks\": \"\"}, \"type\": \"mesh3d\"}], \"parcoords\": [{\"line\": {\"colorbar\": {\"outlinewidth\": 0, \"ticks\": \"\"}}, \"type\": \"parcoords\"}], \"pie\": [{\"automargin\": true, \"type\": \"pie\"}], \"scatter\": [{\"marker\": {\"colorbar\": {\"outlinewidth\": 0, \"ticks\": \"\"}}, \"type\": \"scatter\"}], \"scatter3d\": [{\"line\": {\"colorbar\": {\"outlinewidth\": 0, \"ticks\": \"\"}}, \"marker\": {\"colorbar\": {\"outlinewidth\": 0, \"ticks\": \"\"}}, \"type\": \"scatter3d\"}], \"scattercarpet\": [{\"marker\": {\"colorbar\": {\"outlinewidth\": 0, \"ticks\": \"\"}}, \"type\": \"scattercarpet\"}], \"scattergeo\": [{\"marker\": {\"colorbar\": {\"outlinewidth\": 0, \"ticks\": \"\"}}, \"type\": \"scattergeo\"}], \"scattergl\": [{\"marker\": {\"colorbar\": {\"outlinewidth\": 0, \"ticks\": \"\"}}, \"type\": \"scattergl\"}], \"scattermapbox\": [{\"marker\": {\"colorbar\": {\"outlinewidth\": 0, \"ticks\": \"\"}}, \"type\": \"scattermapbox\"}], \"scatterpolar\": [{\"marker\": {\"colorbar\": {\"outlinewidth\": 0, \"ticks\": \"\"}}, \"type\": \"scatterpolar\"}], \"scatterpolargl\": [{\"marker\": {\"colorbar\": {\"outlinewidth\": 0, \"ticks\": \"\"}}, \"type\": \"scatterpolargl\"}], \"scatterternary\": [{\"marker\": {\"colorbar\": {\"outlinewidth\": 0, \"ticks\": \"\"}}, \"type\": \"scatterternary\"}], \"surface\": [{\"colorbar\": {\"outlinewidth\": 0, \"ticks\": \"\"}, \"colorscale\": [[0.0, \"#0d0887\"], [0.1111111111111111, \"#46039f\"], [0.2222222222222222, \"#7201a8\"], [0.3333333333333333, \"#9c179e\"], [0.4444444444444444, \"#bd3786\"], [0.5555555555555556, \"#d8576b\"], [0.6666666666666666, \"#ed7953\"], [0.7777777777777778, \"#fb9f3a\"], [0.8888888888888888, \"#fdca26\"], [1.0, \"#f0f921\"]], \"type\": \"surface\"}], \"table\": [{\"cells\": {\"fill\": {\"color\": \"#EBF0F8\"}, \"line\": {\"color\": \"white\"}}, \"header\": {\"fill\": {\"color\": \"#C8D4E3\"}, \"line\": {\"color\": \"white\"}}, \"type\": \"table\"}]}, \"layout\": {\"annotationdefaults\": {\"arrowcolor\": \"#2a3f5f\", \"arrowhead\": 0, \"arrowwidth\": 1}, \"coloraxis\": {\"colorbar\": {\"outlinewidth\": 0, \"ticks\": \"\"}}, \"colorscale\": {\"diverging\": [[0, \"#8e0152\"], [0.1, \"#c51b7d\"], [0.2, \"#de77ae\"], [0.3, \"#f1b6da\"], [0.4, \"#fde0ef\"], [0.5, \"#f7f7f7\"], [0.6, \"#e6f5d0\"], [0.7, \"#b8e186\"], [0.8, \"#7fbc41\"], [0.9, \"#4d9221\"], [1, \"#276419\"]], \"sequential\": [[0.0, \"#0d0887\"], [0.1111111111111111, \"#46039f\"], [0.2222222222222222, \"#7201a8\"], [0.3333333333333333, \"#9c179e\"], [0.4444444444444444, \"#bd3786\"], [0.5555555555555556, \"#d8576b\"], [0.6666666666666666, \"#ed7953\"], [0.7777777777777778, \"#fb9f3a\"], [0.8888888888888888, \"#fdca26\"], [1.0, \"#f0f921\"]], \"sequentialminus\": [[0.0, \"#0d0887\"], [0.1111111111111111, \"#46039f\"], [0.2222222222222222, \"#7201a8\"], [0.3333333333333333, \"#9c179e\"], [0.4444444444444444, \"#bd3786\"], [0.5555555555555556, \"#d8576b\"], [0.6666666666666666, \"#ed7953\"], [0.7777777777777778, \"#fb9f3a\"], [0.8888888888888888, \"#fdca26\"], [1.0, \"#f0f921\"]]}, \"colorway\": [\"#636efa\", \"#EF553B\", \"#00cc96\", \"#ab63fa\", \"#FFA15A\", \"#19d3f3\", \"#FF6692\", \"#B6E880\", \"#FF97FF\", \"#FECB52\"], \"font\": {\"color\": \"#2a3f5f\"}, \"geo\": {\"bgcolor\": \"white\", \"lakecolor\": \"white\", \"landcolor\": \"#E5ECF6\", \"showlakes\": true, \"showland\": true, \"subunitcolor\": \"white\"}, \"hoverlabel\": {\"align\": \"left\"}, \"hovermode\": \"closest\", \"mapbox\": {\"style\": \"light\"}, \"paper_bgcolor\": \"white\", \"plot_bgcolor\": \"#E5ECF6\", \"polar\": {\"angularaxis\": {\"gridcolor\": \"white\", \"linecolor\": \"white\", \"ticks\": \"\"}, \"bgcolor\": \"#E5ECF6\", \"radialaxis\": {\"gridcolor\": \"white\", \"linecolor\": \"white\", \"ticks\": \"\"}}, \"scene\": {\"xaxis\": {\"backgroundcolor\": \"#E5ECF6\", \"gridcolor\": \"white\", \"gridwidth\": 2, \"linecolor\": \"white\", \"showbackground\": true, \"ticks\": \"\", \"zerolinecolor\": \"white\"}, \"yaxis\": {\"backgroundcolor\": \"#E5ECF6\", \"gridcolor\": \"white\", \"gridwidth\": 2, \"linecolor\": \"white\", \"showbackground\": true, \"ticks\": \"\", \"zerolinecolor\": \"white\"}, \"zaxis\": {\"backgroundcolor\": \"#E5ECF6\", \"gridcolor\": \"white\", \"gridwidth\": 2, \"linecolor\": \"white\", \"showbackground\": true, \"ticks\": \"\", \"zerolinecolor\": \"white\"}}, \"shapedefaults\": {\"line\": {\"color\": \"#2a3f5f\"}}, \"ternary\": {\"aaxis\": {\"gridcolor\": \"white\", \"linecolor\": \"white\", \"ticks\": \"\"}, \"baxis\": {\"gridcolor\": \"white\", \"linecolor\": \"white\", \"ticks\": \"\"}, \"bgcolor\": \"#E5ECF6\", \"caxis\": {\"gridcolor\": \"white\", \"linecolor\": \"white\", \"ticks\": \"\"}}, \"title\": {\"x\": 0.05}, \"xaxis\": {\"automargin\": true, \"gridcolor\": \"white\", \"linecolor\": \"white\", \"ticks\": \"\", \"title\": {\"standoff\": 15}, \"zerolinecolor\": \"white\", \"zerolinewidth\": 2}, \"yaxis\": {\"automargin\": true, \"gridcolor\": \"white\", \"linecolor\": \"white\", \"ticks\": \"\", \"title\": {\"standoff\": 15}, \"zerolinecolor\": \"white\", \"zerolinewidth\": 2}}}},\n",
       "                        {\"responsive\": true}\n",
       "                    ).then(function(){\n",
       "                            \n",
       "var gd = document.getElementById('b7a6dacd-d997-4933-a327-3f70d64cfccf');\n",
       "var x = new MutationObserver(function (mutations, observer) {{\n",
       "        var display = window.getComputedStyle(gd).display;\n",
       "        if (!display || display === 'none') {{\n",
       "            console.log([gd, 'removed!']);\n",
       "            Plotly.purge(gd);\n",
       "            observer.disconnect();\n",
       "        }}\n",
       "}});\n",
       "\n",
       "// Listen for the removal of the full notebook cells\n",
       "var notebookContainer = gd.closest('#notebook-container');\n",
       "if (notebookContainer) {{\n",
       "    x.observe(notebookContainer, {childList: true});\n",
       "}}\n",
       "\n",
       "// Listen for the clearing of the current output cell\n",
       "var outputEl = gd.closest('.output');\n",
       "if (outputEl) {{\n",
       "    x.observe(outputEl, {childList: true});\n",
       "}}\n",
       "\n",
       "                        })\n",
       "                };\n",
       "                });\n",
       "            </script>\n",
       "        </div>"
      ]
     },
     "metadata": {},
     "output_type": "display_data"
    }
   ],
   "source": [
    "\n",
    "headers=['','<b>0th pass</b>','<b>1st pass</b>','<b>2nd pass</b>','<b>3rd pass</b>','<b>4th pass</b>','<b>5th pass</b>','<b>6th pass</b>']\n",
    "table = go.Figure(data=[go.Table(header=dict(values=headers),\n",
    "                 cells=dict(values=[['<b>Possesions</b>','<b>Fouls Drawn</b>', '<b>FGA</b>','<b>Shooting %</b>' ,'<b>Turnovers</b>','<b>Turnover per Possesion</b>'],\n",
    "                                    [possesions_by_layer[0], fouls_drawn_by_layer[0], attempts_by_layer[0],np.round(100*shooting_percentage_by_layer[0],1),turnovers_by_layer[0],np.round(turnover_rate_by_layer[0],3)],\n",
    "                                    [possesions_by_layer[1], fouls_drawn_by_layer[1], attempts_by_layer[1],np.round(100*shooting_percentage_by_layer[1],1),turnovers_by_layer[1],np.round(turnover_rate_by_layer[1],3)],\n",
    "                                    [possesions_by_layer[2], fouls_drawn_by_layer[2], attempts_by_layer[2],np.round(100*shooting_percentage_by_layer[2],1),turnovers_by_layer[2],np.round(turnover_rate_by_layer[2],3)],\n",
    "                                    [possesions_by_layer[3], fouls_drawn_by_layer[3], attempts_by_layer[3],np.round(100*shooting_percentage_by_layer[3],1),turnovers_by_layer[3],np.round(turnover_rate_by_layer[3],2)],\n",
    "                                    [possesions_by_layer[4], fouls_drawn_by_layer[4], attempts_by_layer[4],np.round(100*shooting_percentage_by_layer[4],1),turnovers_by_layer[4],np.round(turnover_rate_by_layer[4],2)],\n",
    "                                    [possesions_by_layer[5], fouls_drawn_by_layer[5], attempts_by_layer[5],np.round(100*shooting_percentage_by_layer[5],1),turnovers_by_layer[5],np.round(turnover_rate_by_layer[5],2)],\n",
    "                                    [possesions_by_layer[6], fouls_drawn_by_layer[6], attempts_by_layer[6],np.round(100*shooting_percentage_by_layer[6],1),turnovers_by_layer[6],np.round(turnover_rate_by_layer[6],2)]\n",
    "                                   ]))\n",
    "                     ])\n",
    "table.update_layout(margin=dict(t=0))"
   ]
  },
  {
   "cell_type": "code",
   "execution_count": 346,
   "metadata": {
    "scrolled": true
   },
   "outputs": [
    {
     "data": {
      "application/vnd.plotly.v1+json": {
       "config": {
        "plotlyServerURL": "https://plot.ly"
       },
       "data": [
        {
         "arrangement": "snap",
         "link": {
          "source": [
           20,
           20,
           20,
           20,
           20,
           20,
           19,
           19,
           19,
           19,
           2,
           2,
           21,
           5,
           5,
           14,
           14,
           22,
           22,
           22,
           22,
           26,
           26,
           26,
           26,
           26,
           26,
           23,
           23,
           23,
           23,
           11,
           16,
           27,
           25,
           25,
           8,
           13,
           13,
           13,
           13,
           3,
           3,
           3,
           15,
           24,
           24,
           7,
           7,
           10,
           10,
           10,
           4,
           4,
           17,
           1,
           1,
           12,
           28,
           30
          ],
          "target": [
           19,
           5,
           22,
           26,
           13,
           7,
           2,
           10,
           23,
           4,
           21,
           16,
           11,
           14,
           3,
           17,
           1,
           23,
           14,
           4,
           2,
           23,
           3,
           4,
           14,
           24,
           10,
           21,
           25,
           16,
           28,
           0,
           27,
           18,
           8,
           6,
           12,
           3,
           24,
           14,
           4,
           25,
           15,
           21,
           11,
           25,
           21,
           4,
           23,
           21,
           25,
           16,
           16,
           1,
           8,
           8,
           11,
           29,
           30,
           9
          ],
          "value": [
           16,
           9,
           9,
           15,
           10,
           3,
           2,
           4,
           6,
           2,
           1,
           1,
           2,
           4,
           1,
           2,
           4,
           2,
           1,
           3,
           1,
           1,
           2,
           2,
           3,
           2,
           1,
           2,
           1,
           2,
           1,
           1,
           1,
           1,
           1,
           2,
           1,
           2,
           1,
           2,
           2,
           1,
           1,
           1,
           1,
           1,
           1,
           1,
           1,
           1,
           1,
           1,
           1,
           1,
           1,
           2,
           1,
           1,
           1,
           1
          ]
         },
         "node": {
          "color": [
           "white",
           "white",
           "black",
           "orange",
           "red",
           "white",
           "white",
           "orange",
           "grey",
           "grey",
           "brown",
           "red",
           "brown",
           "brown",
           "yellow",
           "brown",
           "grey",
           "black",
           "black",
           "yellow",
           "red",
           "yellow",
           "grey",
           "white",
           "grey",
           "red",
           "black",
           "yellow",
           "orange",
           "red",
           "brown"
          ],
          "customdata": [
           [
            0,
            1,
            0,
            0,
            100
           ],
           [
            1,
            1,
            0,
            0,
            100
           ],
           [
            1,
            0,
            1,
            0,
            0
           ],
           [
            0,
            0,
            2,
            0,
            0
           ],
           [
            0,
            4,
            3,
            0,
            57.142857142857146
           ],
           [
            0,
            3,
            2,
            0,
            60
           ],
           [
            0,
            0,
            2,
            0,
            0
           ],
           [
            1,
            0,
            0,
            0,
            "NA"
           ],
           [
            0,
            0,
            3,
            0,
            0
           ],
           [
            0,
            0,
            1,
            0,
            0
           ],
           [
            0,
            2,
            1,
            0,
            66.66666666666667
           ],
           [
            0,
            1,
            0,
            2,
            100
           ],
           [
            0,
            0,
            0,
            0,
            "NA"
           ],
           [
            0,
            3,
            2,
            2,
            60
           ],
           [
            1,
            1,
            2,
            1,
            33.333333333333336
           ],
           [
            0,
            0,
            0,
            0,
            "NA"
           ],
           [
            2,
            1,
            1,
            1,
            50
           ],
           [
            0,
            0,
            1,
            0,
            0
           ],
           [
            0,
            1,
            0,
            0,
            100
           ],
           [
            1,
            2,
            2,
            1,
            50
           ],
           [
            3,
            2,
            5,
            5,
            28.571428571428573
           ],
           [
            1,
            2,
            0,
            1,
            100
           ],
           [
            1,
            2,
            2,
            0,
            50
           ],
           [
            0,
            2,
            2,
            2,
            50
           ],
           [
            0,
            0,
            1,
            0,
            0
           ],
           [
            0,
            1,
            0,
            0,
            100
           ],
           [
            0,
            3,
            4,
            0,
            42.857142857142854
           ],
           [
            0,
            0,
            0,
            0,
            "NA"
           ],
           [
            0,
            0,
            0,
            0,
            "NA"
           ],
           [
            0,
            1,
            0,
            0,
            100
           ],
           [
            0,
            0,
            0,
            0,
            "NA"
           ]
          ],
          "hovertemplate": "<b>Passes Received:</b> %{value: 0f}",
          "label": [
           "Robinson",
           "Robinson",
           "Herro",
           "Iguodala",
           "Butler",
           "Robinson",
           "Robinson",
           "Iguodala",
           "Crowder",
           "Crowder",
           "Nunn",
           "Butler",
           "Nunn",
           "Nunn",
           "Adebayo",
           "Nunn",
           "Crowder",
           "Herro",
           "Herro",
           "Adebayo",
           "Butler",
           "Adebayo",
           "Crowder",
           "Robinson",
           "Crowder",
           "Butler",
           "Herro",
           "Adebayo",
           "Iguodala",
           "Butler",
           "Nunn"
          ],
          "line": {
           "color": "black",
           "width": 0.5
          },
          "pad": 15,
          "thickness": 20,
          "x": [
           0.8333333333333334,
           0.5,
           0.3333333333333333,
           0.3333333333333333,
           0.3333333333333333,
           0.16666666666666666,
           0.6666666666666666,
           0.16666666666666666,
           0.6666666666666666,
           0.8333333333333334,
           0.3333333333333333,
           0.6666666666666666,
           0.8333333333333334,
           0.16666666666666666,
           0.3333333333333333,
           0.5,
           0.5,
           0.5,
           0.8333333333333334,
           0.16666666666666666,
           0,
           0.5,
           0.16666666666666666,
           0.3333333333333333,
           0.3333333333333333,
           0.5,
           0.16666666666666666,
           0.6666666666666666,
           0.5,
           1,
           0.6666666666666666
          ],
          "y": [
           0.05,
           0.05,
           0.05,
           0.14285714285714285,
           0.2857142857142857,
           0.05,
           0.05,
           0.16666666666666666,
           0.2,
           0.25,
           0.42857142857142855,
           0.4,
           0.5,
           0.3333333333333333,
           0.5714285714285714,
           0.14285714285714285,
           0.2857142857142857,
           0.42857142857142855,
           0.75,
           0.5,
           0.05,
           0.5714285714285714,
           0.6666666666666666,
           0.7142857142857143,
           0.8571428571428571,
           0.7142857142857143,
           0.8333333333333334,
           0.6,
           0.8571428571428571,
           0.05,
           0.8
          ]
         },
         "type": "sankey"
        }
       ],
       "layout": {
        "annotations": [
         {
          "showarrow": false,
          "text": "<b>0th pass</b>",
          "x": -0.01,
          "y": 1.1
         },
         {
          "showarrow": false,
          "text": "<b>1st pass</b>",
          "x": 0.14,
          "y": 1.1
         },
         {
          "showarrow": false,
          "text": "<b>2nd pass</b>",
          "x": 0.31,
          "y": 1.1
         },
         {
          "showarrow": false,
          "text": "<b>3rd pass</b>",
          "x": 0.5,
          "y": 1.1
         },
         {
          "showarrow": false,
          "text": "<b>4th pass</b>",
          "x": 0.7,
          "y": 1.1
         },
         {
          "showarrow": false,
          "text": "<b>5th pass</b>",
          "x": 0.87,
          "y": 1.1
         },
         {
          "showarrow": false,
          "text": "<b>6th pass</b>",
          "x": 1.01,
          "y": 1.1
         }
        ],
        "font": {
         "size": 10
        },
        "hovermode": "closest",
        "margin": {
         "b": 20
        },
        "template": {
         "data": {
          "bar": [
           {
            "error_x": {
             "color": "#2a3f5f"
            },
            "error_y": {
             "color": "#2a3f5f"
            },
            "marker": {
             "line": {
              "color": "#E5ECF6",
              "width": 0.5
             }
            },
            "type": "bar"
           }
          ],
          "barpolar": [
           {
            "marker": {
             "line": {
              "color": "#E5ECF6",
              "width": 0.5
             }
            },
            "type": "barpolar"
           }
          ],
          "carpet": [
           {
            "aaxis": {
             "endlinecolor": "#2a3f5f",
             "gridcolor": "white",
             "linecolor": "white",
             "minorgridcolor": "white",
             "startlinecolor": "#2a3f5f"
            },
            "baxis": {
             "endlinecolor": "#2a3f5f",
             "gridcolor": "white",
             "linecolor": "white",
             "minorgridcolor": "white",
             "startlinecolor": "#2a3f5f"
            },
            "type": "carpet"
           }
          ],
          "choropleth": [
           {
            "colorbar": {
             "outlinewidth": 0,
             "ticks": ""
            },
            "type": "choropleth"
           }
          ],
          "contour": [
           {
            "colorbar": {
             "outlinewidth": 0,
             "ticks": ""
            },
            "colorscale": [
             [
              0,
              "#0d0887"
             ],
             [
              0.1111111111111111,
              "#46039f"
             ],
             [
              0.2222222222222222,
              "#7201a8"
             ],
             [
              0.3333333333333333,
              "#9c179e"
             ],
             [
              0.4444444444444444,
              "#bd3786"
             ],
             [
              0.5555555555555556,
              "#d8576b"
             ],
             [
              0.6666666666666666,
              "#ed7953"
             ],
             [
              0.7777777777777778,
              "#fb9f3a"
             ],
             [
              0.8888888888888888,
              "#fdca26"
             ],
             [
              1,
              "#f0f921"
             ]
            ],
            "type": "contour"
           }
          ],
          "contourcarpet": [
           {
            "colorbar": {
             "outlinewidth": 0,
             "ticks": ""
            },
            "type": "contourcarpet"
           }
          ],
          "heatmap": [
           {
            "colorbar": {
             "outlinewidth": 0,
             "ticks": ""
            },
            "colorscale": [
             [
              0,
              "#0d0887"
             ],
             [
              0.1111111111111111,
              "#46039f"
             ],
             [
              0.2222222222222222,
              "#7201a8"
             ],
             [
              0.3333333333333333,
              "#9c179e"
             ],
             [
              0.4444444444444444,
              "#bd3786"
             ],
             [
              0.5555555555555556,
              "#d8576b"
             ],
             [
              0.6666666666666666,
              "#ed7953"
             ],
             [
              0.7777777777777778,
              "#fb9f3a"
             ],
             [
              0.8888888888888888,
              "#fdca26"
             ],
             [
              1,
              "#f0f921"
             ]
            ],
            "type": "heatmap"
           }
          ],
          "heatmapgl": [
           {
            "colorbar": {
             "outlinewidth": 0,
             "ticks": ""
            },
            "colorscale": [
             [
              0,
              "#0d0887"
             ],
             [
              0.1111111111111111,
              "#46039f"
             ],
             [
              0.2222222222222222,
              "#7201a8"
             ],
             [
              0.3333333333333333,
              "#9c179e"
             ],
             [
              0.4444444444444444,
              "#bd3786"
             ],
             [
              0.5555555555555556,
              "#d8576b"
             ],
             [
              0.6666666666666666,
              "#ed7953"
             ],
             [
              0.7777777777777778,
              "#fb9f3a"
             ],
             [
              0.8888888888888888,
              "#fdca26"
             ],
             [
              1,
              "#f0f921"
             ]
            ],
            "type": "heatmapgl"
           }
          ],
          "histogram": [
           {
            "marker": {
             "colorbar": {
              "outlinewidth": 0,
              "ticks": ""
             }
            },
            "type": "histogram"
           }
          ],
          "histogram2d": [
           {
            "colorbar": {
             "outlinewidth": 0,
             "ticks": ""
            },
            "colorscale": [
             [
              0,
              "#0d0887"
             ],
             [
              0.1111111111111111,
              "#46039f"
             ],
             [
              0.2222222222222222,
              "#7201a8"
             ],
             [
              0.3333333333333333,
              "#9c179e"
             ],
             [
              0.4444444444444444,
              "#bd3786"
             ],
             [
              0.5555555555555556,
              "#d8576b"
             ],
             [
              0.6666666666666666,
              "#ed7953"
             ],
             [
              0.7777777777777778,
              "#fb9f3a"
             ],
             [
              0.8888888888888888,
              "#fdca26"
             ],
             [
              1,
              "#f0f921"
             ]
            ],
            "type": "histogram2d"
           }
          ],
          "histogram2dcontour": [
           {
            "colorbar": {
             "outlinewidth": 0,
             "ticks": ""
            },
            "colorscale": [
             [
              0,
              "#0d0887"
             ],
             [
              0.1111111111111111,
              "#46039f"
             ],
             [
              0.2222222222222222,
              "#7201a8"
             ],
             [
              0.3333333333333333,
              "#9c179e"
             ],
             [
              0.4444444444444444,
              "#bd3786"
             ],
             [
              0.5555555555555556,
              "#d8576b"
             ],
             [
              0.6666666666666666,
              "#ed7953"
             ],
             [
              0.7777777777777778,
              "#fb9f3a"
             ],
             [
              0.8888888888888888,
              "#fdca26"
             ],
             [
              1,
              "#f0f921"
             ]
            ],
            "type": "histogram2dcontour"
           }
          ],
          "mesh3d": [
           {
            "colorbar": {
             "outlinewidth": 0,
             "ticks": ""
            },
            "type": "mesh3d"
           }
          ],
          "parcoords": [
           {
            "line": {
             "colorbar": {
              "outlinewidth": 0,
              "ticks": ""
             }
            },
            "type": "parcoords"
           }
          ],
          "pie": [
           {
            "automargin": true,
            "type": "pie"
           }
          ],
          "scatter": [
           {
            "marker": {
             "colorbar": {
              "outlinewidth": 0,
              "ticks": ""
             }
            },
            "type": "scatter"
           }
          ],
          "scatter3d": [
           {
            "line": {
             "colorbar": {
              "outlinewidth": 0,
              "ticks": ""
             }
            },
            "marker": {
             "colorbar": {
              "outlinewidth": 0,
              "ticks": ""
             }
            },
            "type": "scatter3d"
           }
          ],
          "scattercarpet": [
           {
            "marker": {
             "colorbar": {
              "outlinewidth": 0,
              "ticks": ""
             }
            },
            "type": "scattercarpet"
           }
          ],
          "scattergeo": [
           {
            "marker": {
             "colorbar": {
              "outlinewidth": 0,
              "ticks": ""
             }
            },
            "type": "scattergeo"
           }
          ],
          "scattergl": [
           {
            "marker": {
             "colorbar": {
              "outlinewidth": 0,
              "ticks": ""
             }
            },
            "type": "scattergl"
           }
          ],
          "scattermapbox": [
           {
            "marker": {
             "colorbar": {
              "outlinewidth": 0,
              "ticks": ""
             }
            },
            "type": "scattermapbox"
           }
          ],
          "scatterpolar": [
           {
            "marker": {
             "colorbar": {
              "outlinewidth": 0,
              "ticks": ""
             }
            },
            "type": "scatterpolar"
           }
          ],
          "scatterpolargl": [
           {
            "marker": {
             "colorbar": {
              "outlinewidth": 0,
              "ticks": ""
             }
            },
            "type": "scatterpolargl"
           }
          ],
          "scatterternary": [
           {
            "marker": {
             "colorbar": {
              "outlinewidth": 0,
              "ticks": ""
             }
            },
            "type": "scatterternary"
           }
          ],
          "surface": [
           {
            "colorbar": {
             "outlinewidth": 0,
             "ticks": ""
            },
            "colorscale": [
             [
              0,
              "#0d0887"
             ],
             [
              0.1111111111111111,
              "#46039f"
             ],
             [
              0.2222222222222222,
              "#7201a8"
             ],
             [
              0.3333333333333333,
              "#9c179e"
             ],
             [
              0.4444444444444444,
              "#bd3786"
             ],
             [
              0.5555555555555556,
              "#d8576b"
             ],
             [
              0.6666666666666666,
              "#ed7953"
             ],
             [
              0.7777777777777778,
              "#fb9f3a"
             ],
             [
              0.8888888888888888,
              "#fdca26"
             ],
             [
              1,
              "#f0f921"
             ]
            ],
            "type": "surface"
           }
          ],
          "table": [
           {
            "cells": {
             "fill": {
              "color": "#EBF0F8"
             },
             "line": {
              "color": "white"
             }
            },
            "header": {
             "fill": {
              "color": "#C8D4E3"
             },
             "line": {
              "color": "white"
             }
            },
            "type": "table"
           }
          ]
         },
         "layout": {
          "annotationdefaults": {
           "arrowcolor": "#2a3f5f",
           "arrowhead": 0,
           "arrowwidth": 1
          },
          "coloraxis": {
           "colorbar": {
            "outlinewidth": 0,
            "ticks": ""
           }
          },
          "colorscale": {
           "diverging": [
            [
             0,
             "#8e0152"
            ],
            [
             0.1,
             "#c51b7d"
            ],
            [
             0.2,
             "#de77ae"
            ],
            [
             0.3,
             "#f1b6da"
            ],
            [
             0.4,
             "#fde0ef"
            ],
            [
             0.5,
             "#f7f7f7"
            ],
            [
             0.6,
             "#e6f5d0"
            ],
            [
             0.7,
             "#b8e186"
            ],
            [
             0.8,
             "#7fbc41"
            ],
            [
             0.9,
             "#4d9221"
            ],
            [
             1,
             "#276419"
            ]
           ],
           "sequential": [
            [
             0,
             "#0d0887"
            ],
            [
             0.1111111111111111,
             "#46039f"
            ],
            [
             0.2222222222222222,
             "#7201a8"
            ],
            [
             0.3333333333333333,
             "#9c179e"
            ],
            [
             0.4444444444444444,
             "#bd3786"
            ],
            [
             0.5555555555555556,
             "#d8576b"
            ],
            [
             0.6666666666666666,
             "#ed7953"
            ],
            [
             0.7777777777777778,
             "#fb9f3a"
            ],
            [
             0.8888888888888888,
             "#fdca26"
            ],
            [
             1,
             "#f0f921"
            ]
           ],
           "sequentialminus": [
            [
             0,
             "#0d0887"
            ],
            [
             0.1111111111111111,
             "#46039f"
            ],
            [
             0.2222222222222222,
             "#7201a8"
            ],
            [
             0.3333333333333333,
             "#9c179e"
            ],
            [
             0.4444444444444444,
             "#bd3786"
            ],
            [
             0.5555555555555556,
             "#d8576b"
            ],
            [
             0.6666666666666666,
             "#ed7953"
            ],
            [
             0.7777777777777778,
             "#fb9f3a"
            ],
            [
             0.8888888888888888,
             "#fdca26"
            ],
            [
             1,
             "#f0f921"
            ]
           ]
          },
          "colorway": [
           "#636efa",
           "#EF553B",
           "#00cc96",
           "#ab63fa",
           "#FFA15A",
           "#19d3f3",
           "#FF6692",
           "#B6E880",
           "#FF97FF",
           "#FECB52"
          ],
          "font": {
           "color": "#2a3f5f"
          },
          "geo": {
           "bgcolor": "white",
           "lakecolor": "white",
           "landcolor": "#E5ECF6",
           "showlakes": true,
           "showland": true,
           "subunitcolor": "white"
          },
          "hoverlabel": {
           "align": "left"
          },
          "hovermode": "closest",
          "mapbox": {
           "style": "light"
          },
          "paper_bgcolor": "white",
          "plot_bgcolor": "#E5ECF6",
          "polar": {
           "angularaxis": {
            "gridcolor": "white",
            "linecolor": "white",
            "ticks": ""
           },
           "bgcolor": "#E5ECF6",
           "radialaxis": {
            "gridcolor": "white",
            "linecolor": "white",
            "ticks": ""
           }
          },
          "scene": {
           "xaxis": {
            "backgroundcolor": "#E5ECF6",
            "gridcolor": "white",
            "gridwidth": 2,
            "linecolor": "white",
            "showbackground": true,
            "ticks": "",
            "zerolinecolor": "white"
           },
           "yaxis": {
            "backgroundcolor": "#E5ECF6",
            "gridcolor": "white",
            "gridwidth": 2,
            "linecolor": "white",
            "showbackground": true,
            "ticks": "",
            "zerolinecolor": "white"
           },
           "zaxis": {
            "backgroundcolor": "#E5ECF6",
            "gridcolor": "white",
            "gridwidth": 2,
            "linecolor": "white",
            "showbackground": true,
            "ticks": "",
            "zerolinecolor": "white"
           }
          },
          "shapedefaults": {
           "line": {
            "color": "#2a3f5f"
           }
          },
          "ternary": {
           "aaxis": {
            "gridcolor": "white",
            "linecolor": "white",
            "ticks": ""
           },
           "baxis": {
            "gridcolor": "white",
            "linecolor": "white",
            "ticks": ""
           },
           "bgcolor": "#E5ECF6",
           "caxis": {
            "gridcolor": "white",
            "linecolor": "white",
            "ticks": ""
           }
          },
          "title": {
           "x": 0.05
          },
          "xaxis": {
           "automargin": true,
           "gridcolor": "white",
           "linecolor": "white",
           "ticks": "",
           "title": {
            "standoff": 15
           },
           "zerolinecolor": "white",
           "zerolinewidth": 2
          },
          "yaxis": {
           "automargin": true,
           "gridcolor": "white",
           "linecolor": "white",
           "ticks": "",
           "title": {
            "standoff": 15
           },
           "zerolinecolor": "white",
           "zerolinewidth": 2
          }
         }
        },
        "title": {
         "text": "Miami Heat Passing Sequences, vs LA Lakers 10/9/2020"
        }
       }
      },
      "text/html": [
       "<div>\n",
       "        \n",
       "        \n",
       "            <div id=\"238e8547-1d39-4a1d-8b22-2c41403888ef\" class=\"plotly-graph-div\" style=\"height:525px; width:100%;\"></div>\n",
       "            <script type=\"text/javascript\">\n",
       "                require([\"plotly\"], function(Plotly) {\n",
       "                    window.PLOTLYENV=window.PLOTLYENV || {};\n",
       "                    \n",
       "                if (document.getElementById(\"238e8547-1d39-4a1d-8b22-2c41403888ef\")) {\n",
       "                    Plotly.newPlot(\n",
       "                        '238e8547-1d39-4a1d-8b22-2c41403888ef',\n",
       "                        [{\"arrangement\": \"snap\", \"link\": {\"source\": [20, 20, 20, 20, 20, 20, 19, 19, 19, 19, 2, 2, 21, 5, 5, 14, 14, 22, 22, 22, 22, 26, 26, 26, 26, 26, 26, 23, 23, 23, 23, 11, 16, 27, 25, 25, 8, 13, 13, 13, 13, 3, 3, 3, 15, 24, 24, 7, 7, 10, 10, 10, 4, 4, 17, 1, 1, 12, 28, 30], \"target\": [19, 5, 22, 26, 13, 7, 2, 10, 23, 4, 21, 16, 11, 14, 3, 17, 1, 23, 14, 4, 2, 23, 3, 4, 14, 24, 10, 21, 25, 16, 28, 0, 27, 18, 8, 6, 12, 3, 24, 14, 4, 25, 15, 21, 11, 25, 21, 4, 23, 21, 25, 16, 16, 1, 8, 8, 11, 29, 30, 9], \"value\": [16, 9, 9, 15, 10, 3, 2, 4, 6, 2, 1, 1, 2, 4, 1, 2, 4, 2, 1, 3, 1, 1, 2, 2, 3, 2, 1, 2, 1, 2, 1, 1, 1, 1, 1, 2, 1, 2, 1, 2, 2, 1, 1, 1, 1, 1, 1, 1, 1, 1, 1, 1, 1, 1, 1, 2, 1, 1, 1, 1]}, \"node\": {\"color\": [\"white\", \"white\", \"black\", \"orange\", \"red\", \"white\", \"white\", \"orange\", \"grey\", \"grey\", \"brown\", \"red\", \"brown\", \"brown\", \"yellow\", \"brown\", \"grey\", \"black\", \"black\", \"yellow\", \"red\", \"yellow\", \"grey\", \"white\", \"grey\", \"red\", \"black\", \"yellow\", \"orange\", \"red\", \"brown\"], \"customdata\": [[0, 1, 0, 0, 100.0], [1, 1, 0, 0, 100.0], [1, 0, 1, 0, 0.0], [0, 0, 2, 0, 0.0], [0, 4, 3, 0, 57.142857142857146], [0, 3, 2, 0, 60.0], [0, 0, 2, 0, 0.0], [1, 0, 0, 0, \"NA\"], [0, 0, 3, 0, 0.0], [0, 0, 1, 0, 0.0], [0, 2, 1, 0, 66.66666666666667], [0, 1, 0, 2, 100.0], [0, 0, 0, 0, \"NA\"], [0, 3, 2, 2, 60.0], [1, 1, 2, 1, 33.333333333333336], [0, 0, 0, 0, \"NA\"], [2, 1, 1, 1, 50.0], [0, 0, 1, 0, 0.0], [0, 1, 0, 0, 100.0], [1, 2, 2, 1, 50.0], [3, 2, 5, 5, 28.571428571428573], [1, 2, 0, 1, 100.0], [1, 2, 2, 0, 50.0], [0, 2, 2, 2, 50.0], [0, 0, 1, 0, 0.0], [0, 1, 0, 0, 100.0], [0, 3, 4, 0, 42.857142857142854], [0, 0, 0, 0, \"NA\"], [0, 0, 0, 0, \"NA\"], [0, 1, 0, 0, 100.0], [0, 0, 0, 0, \"NA\"]], \"hovertemplate\": \"<b>Passes Received:</b> %{value: 0f}\", \"label\": [\"Robinson\", \"Robinson\", \"Herro\", \"Iguodala\", \"Butler\", \"Robinson\", \"Robinson\", \"Iguodala\", \"Crowder\", \"Crowder\", \"Nunn\", \"Butler\", \"Nunn\", \"Nunn\", \"Adebayo\", \"Nunn\", \"Crowder\", \"Herro\", \"Herro\", \"Adebayo\", \"Butler\", \"Adebayo\", \"Crowder\", \"Robinson\", \"Crowder\", \"Butler\", \"Herro\", \"Adebayo\", \"Iguodala\", \"Butler\", \"Nunn\"], \"line\": {\"color\": \"black\", \"width\": 0.5}, \"pad\": 15, \"thickness\": 20, \"x\": [0.8333333333333334, 0.5, 0.3333333333333333, 0.3333333333333333, 0.3333333333333333, 0.16666666666666666, 0.6666666666666666, 0.16666666666666666, 0.6666666666666666, 0.8333333333333334, 0.3333333333333333, 0.6666666666666666, 0.8333333333333334, 0.16666666666666666, 0.3333333333333333, 0.5, 0.5, 0.5, 0.8333333333333334, 0.16666666666666666, 0.0, 0.5, 0.16666666666666666, 0.3333333333333333, 0.3333333333333333, 0.5, 0.16666666666666666, 0.6666666666666666, 0.5, 1.0, 0.6666666666666666], \"y\": [0.05, 0.05, 0.05, 0.14285714285714285, 0.2857142857142857, 0.05, 0.05, 0.16666666666666666, 0.2, 0.25, 0.42857142857142855, 0.4, 0.5, 0.3333333333333333, 0.5714285714285714, 0.14285714285714285, 0.2857142857142857, 0.42857142857142855, 0.75, 0.5, 0.05, 0.5714285714285714, 0.6666666666666666, 0.7142857142857143, 0.8571428571428571, 0.7142857142857143, 0.8333333333333334, 0.6, 0.8571428571428571, 0.05, 0.8]}, \"type\": \"sankey\"}],\n",
       "                        {\"annotations\": [{\"showarrow\": false, \"text\": \"<b>0th pass</b>\", \"x\": -0.01, \"y\": 1.1}, {\"showarrow\": false, \"text\": \"<b>1st pass</b>\", \"x\": 0.14, \"y\": 1.1}, {\"showarrow\": false, \"text\": \"<b>2nd pass</b>\", \"x\": 0.31, \"y\": 1.1}, {\"showarrow\": false, \"text\": \"<b>3rd pass</b>\", \"x\": 0.5, \"y\": 1.1}, {\"showarrow\": false, \"text\": \"<b>4th pass</b>\", \"x\": 0.7, \"y\": 1.1}, {\"showarrow\": false, \"text\": \"<b>5th pass</b>\", \"x\": 0.87, \"y\": 1.1}, {\"showarrow\": false, \"text\": \"<b>6th pass</b>\", \"x\": 1.01, \"y\": 1.1}], \"font\": {\"size\": 10}, \"hovermode\": \"closest\", \"margin\": {\"b\": 20}, \"template\": {\"data\": {\"bar\": [{\"error_x\": {\"color\": \"#2a3f5f\"}, \"error_y\": {\"color\": \"#2a3f5f\"}, \"marker\": {\"line\": {\"color\": \"#E5ECF6\", \"width\": 0.5}}, \"type\": \"bar\"}], \"barpolar\": [{\"marker\": {\"line\": {\"color\": \"#E5ECF6\", \"width\": 0.5}}, \"type\": \"barpolar\"}], \"carpet\": [{\"aaxis\": {\"endlinecolor\": \"#2a3f5f\", \"gridcolor\": \"white\", \"linecolor\": \"white\", \"minorgridcolor\": \"white\", \"startlinecolor\": \"#2a3f5f\"}, \"baxis\": {\"endlinecolor\": \"#2a3f5f\", \"gridcolor\": \"white\", \"linecolor\": \"white\", \"minorgridcolor\": \"white\", \"startlinecolor\": \"#2a3f5f\"}, \"type\": \"carpet\"}], \"choropleth\": [{\"colorbar\": {\"outlinewidth\": 0, \"ticks\": \"\"}, \"type\": \"choropleth\"}], \"contour\": [{\"colorbar\": {\"outlinewidth\": 0, \"ticks\": \"\"}, \"colorscale\": [[0.0, \"#0d0887\"], [0.1111111111111111, \"#46039f\"], [0.2222222222222222, \"#7201a8\"], [0.3333333333333333, \"#9c179e\"], [0.4444444444444444, \"#bd3786\"], [0.5555555555555556, \"#d8576b\"], [0.6666666666666666, \"#ed7953\"], [0.7777777777777778, \"#fb9f3a\"], [0.8888888888888888, \"#fdca26\"], [1.0, \"#f0f921\"]], \"type\": \"contour\"}], \"contourcarpet\": [{\"colorbar\": {\"outlinewidth\": 0, \"ticks\": \"\"}, \"type\": \"contourcarpet\"}], \"heatmap\": [{\"colorbar\": {\"outlinewidth\": 0, \"ticks\": \"\"}, \"colorscale\": [[0.0, \"#0d0887\"], [0.1111111111111111, \"#46039f\"], [0.2222222222222222, \"#7201a8\"], [0.3333333333333333, \"#9c179e\"], [0.4444444444444444, \"#bd3786\"], [0.5555555555555556, \"#d8576b\"], [0.6666666666666666, \"#ed7953\"], [0.7777777777777778, \"#fb9f3a\"], [0.8888888888888888, \"#fdca26\"], [1.0, \"#f0f921\"]], \"type\": \"heatmap\"}], \"heatmapgl\": [{\"colorbar\": {\"outlinewidth\": 0, \"ticks\": \"\"}, \"colorscale\": [[0.0, \"#0d0887\"], [0.1111111111111111, \"#46039f\"], [0.2222222222222222, \"#7201a8\"], [0.3333333333333333, \"#9c179e\"], [0.4444444444444444, \"#bd3786\"], [0.5555555555555556, \"#d8576b\"], [0.6666666666666666, \"#ed7953\"], [0.7777777777777778, \"#fb9f3a\"], [0.8888888888888888, \"#fdca26\"], [1.0, \"#f0f921\"]], \"type\": \"heatmapgl\"}], \"histogram\": [{\"marker\": {\"colorbar\": {\"outlinewidth\": 0, \"ticks\": \"\"}}, \"type\": \"histogram\"}], \"histogram2d\": [{\"colorbar\": {\"outlinewidth\": 0, \"ticks\": \"\"}, \"colorscale\": [[0.0, \"#0d0887\"], [0.1111111111111111, \"#46039f\"], [0.2222222222222222, \"#7201a8\"], [0.3333333333333333, \"#9c179e\"], [0.4444444444444444, \"#bd3786\"], [0.5555555555555556, \"#d8576b\"], [0.6666666666666666, \"#ed7953\"], [0.7777777777777778, \"#fb9f3a\"], [0.8888888888888888, \"#fdca26\"], [1.0, \"#f0f921\"]], \"type\": \"histogram2d\"}], \"histogram2dcontour\": [{\"colorbar\": {\"outlinewidth\": 0, \"ticks\": \"\"}, \"colorscale\": [[0.0, \"#0d0887\"], [0.1111111111111111, \"#46039f\"], [0.2222222222222222, \"#7201a8\"], [0.3333333333333333, \"#9c179e\"], [0.4444444444444444, \"#bd3786\"], [0.5555555555555556, \"#d8576b\"], [0.6666666666666666, \"#ed7953\"], [0.7777777777777778, \"#fb9f3a\"], [0.8888888888888888, \"#fdca26\"], [1.0, \"#f0f921\"]], \"type\": \"histogram2dcontour\"}], \"mesh3d\": [{\"colorbar\": {\"outlinewidth\": 0, \"ticks\": \"\"}, \"type\": \"mesh3d\"}], \"parcoords\": [{\"line\": {\"colorbar\": {\"outlinewidth\": 0, \"ticks\": \"\"}}, \"type\": \"parcoords\"}], \"pie\": [{\"automargin\": true, \"type\": \"pie\"}], \"scatter\": [{\"marker\": {\"colorbar\": {\"outlinewidth\": 0, \"ticks\": \"\"}}, \"type\": \"scatter\"}], \"scatter3d\": [{\"line\": {\"colorbar\": {\"outlinewidth\": 0, \"ticks\": \"\"}}, \"marker\": {\"colorbar\": {\"outlinewidth\": 0, \"ticks\": \"\"}}, \"type\": \"scatter3d\"}], \"scattercarpet\": [{\"marker\": {\"colorbar\": {\"outlinewidth\": 0, \"ticks\": \"\"}}, \"type\": \"scattercarpet\"}], \"scattergeo\": [{\"marker\": {\"colorbar\": {\"outlinewidth\": 0, \"ticks\": \"\"}}, \"type\": \"scattergeo\"}], \"scattergl\": [{\"marker\": {\"colorbar\": {\"outlinewidth\": 0, \"ticks\": \"\"}}, \"type\": \"scattergl\"}], \"scattermapbox\": [{\"marker\": {\"colorbar\": {\"outlinewidth\": 0, \"ticks\": \"\"}}, \"type\": \"scattermapbox\"}], \"scatterpolar\": [{\"marker\": {\"colorbar\": {\"outlinewidth\": 0, \"ticks\": \"\"}}, \"type\": \"scatterpolar\"}], \"scatterpolargl\": [{\"marker\": {\"colorbar\": {\"outlinewidth\": 0, \"ticks\": \"\"}}, \"type\": \"scatterpolargl\"}], \"scatterternary\": [{\"marker\": {\"colorbar\": {\"outlinewidth\": 0, \"ticks\": \"\"}}, \"type\": \"scatterternary\"}], \"surface\": [{\"colorbar\": {\"outlinewidth\": 0, \"ticks\": \"\"}, \"colorscale\": [[0.0, \"#0d0887\"], [0.1111111111111111, \"#46039f\"], [0.2222222222222222, \"#7201a8\"], [0.3333333333333333, \"#9c179e\"], [0.4444444444444444, \"#bd3786\"], [0.5555555555555556, \"#d8576b\"], [0.6666666666666666, \"#ed7953\"], [0.7777777777777778, \"#fb9f3a\"], [0.8888888888888888, \"#fdca26\"], [1.0, \"#f0f921\"]], \"type\": \"surface\"}], \"table\": [{\"cells\": {\"fill\": {\"color\": \"#EBF0F8\"}, \"line\": {\"color\": \"white\"}}, \"header\": {\"fill\": {\"color\": \"#C8D4E3\"}, \"line\": {\"color\": \"white\"}}, \"type\": \"table\"}]}, \"layout\": {\"annotationdefaults\": {\"arrowcolor\": \"#2a3f5f\", \"arrowhead\": 0, \"arrowwidth\": 1}, \"coloraxis\": {\"colorbar\": {\"outlinewidth\": 0, \"ticks\": \"\"}}, \"colorscale\": {\"diverging\": [[0, \"#8e0152\"], [0.1, \"#c51b7d\"], [0.2, \"#de77ae\"], [0.3, \"#f1b6da\"], [0.4, \"#fde0ef\"], [0.5, \"#f7f7f7\"], [0.6, \"#e6f5d0\"], [0.7, \"#b8e186\"], [0.8, \"#7fbc41\"], [0.9, \"#4d9221\"], [1, \"#276419\"]], \"sequential\": [[0.0, \"#0d0887\"], [0.1111111111111111, \"#46039f\"], [0.2222222222222222, \"#7201a8\"], [0.3333333333333333, \"#9c179e\"], [0.4444444444444444, \"#bd3786\"], [0.5555555555555556, \"#d8576b\"], [0.6666666666666666, \"#ed7953\"], [0.7777777777777778, \"#fb9f3a\"], [0.8888888888888888, \"#fdca26\"], [1.0, \"#f0f921\"]], \"sequentialminus\": [[0.0, \"#0d0887\"], [0.1111111111111111, \"#46039f\"], [0.2222222222222222, \"#7201a8\"], [0.3333333333333333, \"#9c179e\"], [0.4444444444444444, \"#bd3786\"], [0.5555555555555556, \"#d8576b\"], [0.6666666666666666, \"#ed7953\"], [0.7777777777777778, \"#fb9f3a\"], [0.8888888888888888, \"#fdca26\"], [1.0, \"#f0f921\"]]}, \"colorway\": [\"#636efa\", \"#EF553B\", \"#00cc96\", \"#ab63fa\", \"#FFA15A\", \"#19d3f3\", \"#FF6692\", \"#B6E880\", \"#FF97FF\", \"#FECB52\"], \"font\": {\"color\": \"#2a3f5f\"}, \"geo\": {\"bgcolor\": \"white\", \"lakecolor\": \"white\", \"landcolor\": \"#E5ECF6\", \"showlakes\": true, \"showland\": true, \"subunitcolor\": \"white\"}, \"hoverlabel\": {\"align\": \"left\"}, \"hovermode\": \"closest\", \"mapbox\": {\"style\": \"light\"}, \"paper_bgcolor\": \"white\", \"plot_bgcolor\": \"#E5ECF6\", \"polar\": {\"angularaxis\": {\"gridcolor\": \"white\", \"linecolor\": \"white\", \"ticks\": \"\"}, \"bgcolor\": \"#E5ECF6\", \"radialaxis\": {\"gridcolor\": \"white\", \"linecolor\": \"white\", \"ticks\": \"\"}}, \"scene\": {\"xaxis\": {\"backgroundcolor\": \"#E5ECF6\", \"gridcolor\": \"white\", \"gridwidth\": 2, \"linecolor\": \"white\", \"showbackground\": true, \"ticks\": \"\", \"zerolinecolor\": \"white\"}, \"yaxis\": {\"backgroundcolor\": \"#E5ECF6\", \"gridcolor\": \"white\", \"gridwidth\": 2, \"linecolor\": \"white\", \"showbackground\": true, \"ticks\": \"\", \"zerolinecolor\": \"white\"}, \"zaxis\": {\"backgroundcolor\": \"#E5ECF6\", \"gridcolor\": \"white\", \"gridwidth\": 2, \"linecolor\": \"white\", \"showbackground\": true, \"ticks\": \"\", \"zerolinecolor\": \"white\"}}, \"shapedefaults\": {\"line\": {\"color\": \"#2a3f5f\"}}, \"ternary\": {\"aaxis\": {\"gridcolor\": \"white\", \"linecolor\": \"white\", \"ticks\": \"\"}, \"baxis\": {\"gridcolor\": \"white\", \"linecolor\": \"white\", \"ticks\": \"\"}, \"bgcolor\": \"#E5ECF6\", \"caxis\": {\"gridcolor\": \"white\", \"linecolor\": \"white\", \"ticks\": \"\"}}, \"title\": {\"x\": 0.05}, \"xaxis\": {\"automargin\": true, \"gridcolor\": \"white\", \"linecolor\": \"white\", \"ticks\": \"\", \"title\": {\"standoff\": 15}, \"zerolinecolor\": \"white\", \"zerolinewidth\": 2}, \"yaxis\": {\"automargin\": true, \"gridcolor\": \"white\", \"linecolor\": \"white\", \"ticks\": \"\", \"title\": {\"standoff\": 15}, \"zerolinecolor\": \"white\", \"zerolinewidth\": 2}}}, \"title\": {\"text\": \"Miami Heat Passing Sequences, vs LA Lakers 10/9/2020\"}},\n",
       "                        {\"responsive\": true}\n",
       "                    ).then(function(){\n",
       "                            \n",
       "var gd = document.getElementById('238e8547-1d39-4a1d-8b22-2c41403888ef');\n",
       "var x = new MutationObserver(function (mutations, observer) {{\n",
       "        var display = window.getComputedStyle(gd).display;\n",
       "        if (!display || display === 'none') {{\n",
       "            console.log([gd, 'removed!']);\n",
       "            Plotly.purge(gd);\n",
       "            observer.disconnect();\n",
       "        }}\n",
       "}});\n",
       "\n",
       "// Listen for the removal of the full notebook cells\n",
       "var notebookContainer = gd.closest('#notebook-container');\n",
       "if (notebookContainer) {{\n",
       "    x.observe(notebookContainer, {childList: true});\n",
       "}}\n",
       "\n",
       "// Listen for the clearing of the current output cell\n",
       "var outputEl = gd.closest('.output');\n",
       "if (outputEl) {{\n",
       "    x.observe(outputEl, {childList: true});\n",
       "}}\n",
       "\n",
       "                        })\n",
       "                };\n",
       "                });\n",
       "            </script>\n",
       "        </div>"
      ]
     },
     "metadata": {},
     "output_type": "display_data"
    }
   ],
   "source": [
    "import plotly.graph_objects as go\n",
    "import numpy as np\n",
    "\n",
    "fig = go.Figure(data=[go.Sankey(arrangement='snap',\n",
    "    node = dict(\n",
    "        \n",
    "      pad = 15,\n",
    "      thickness = 20,\n",
    "      line = dict(color = \"black\", width = 0.5),\n",
    "      label = fixed_labels,\n",
    "      x = x_pos,\n",
    "      y = y_pos,\n",
    "      customdata=all_data,\n",
    "      color= colors,\n",
    "      hovertemplate='<b>Passes Received:</b> %{value: 0f}'\n",
    "    ),\n",
    "    link = dict(\n",
    "      source = source, # indices correspond to labels, eg A1, A2, A2, B1, ...\n",
    "      target = target,\n",
    "      value = value\n",
    "  ))])\n",
    "\n",
    "fig.add_annotation(x=-0.01, y=1.1,\n",
    "            text=\"<b>0th pass</b>\", showarrow=False)\n",
    "\n",
    "fig.add_annotation(x=0.14, y=1.1,\n",
    "            text=\"<b>1st pass</b>\", showarrow=False)\n",
    "\n",
    "fig.add_annotation(x=0.31, y=1.1,\n",
    "            text=\"<b>2nd pass</b>\", showarrow=False)\n",
    "\n",
    "fig.add_annotation(x=0.5, y=1.1,\n",
    "            text=\"<b>3rd pass</b>\", showarrow=False)\n",
    "\n",
    "fig.add_annotation(x=0.7, y=1.1,\n",
    "            text=\"<b>4th pass</b>\", showarrow=False)\n",
    "\n",
    "fig.add_annotation(x=0.87, y=1.1,\n",
    "            text=\"<b>5th pass</b>\", showarrow=False)\n",
    "\n",
    "fig.add_annotation(x=1.01, y=1.1,\n",
    "            text=\"<b>6th pass</b>\", showarrow=False)\n",
    "\n",
    "\n",
    "fig.update_layout(title_text=\"Miami Heat Passing Sequences, vs LA Lakers 10/9/2020\", font_size=10,hovermode='closest',margin=dict(b=20),width)\n",
    "fig.show()"
   ]
  },
  {
   "cell_type": "code",
   "execution_count": 341,
   "metadata": {},
   "outputs": [],
   "source": [
    "sankey=go.Sankey(arrangement='snap',\n",
    "    node = dict(\n",
    "        \n",
    "      pad = 15,\n",
    "      thickness = 20,\n",
    "      line = dict(color = \"black\", width = 0.5),\n",
    "      label = fixed_labels,\n",
    "      x = x_pos,\n",
    "      y = y_pos,\n",
    "      customdata=all_data,\n",
    "      color= colors,\n",
    "      hovertemplate='<b>Passes Received:</b> %{value: 0f}'+\n",
    "        '<br><b>Turnovers:</b> %{customdata[0]}'+\n",
    "        '<br><b>Makes:</b> %{customdata[1]}'+\n",
    "        '<br><b>Misses:</b> %{customdata[2]}'+\n",
    "        '<br><b>Fouls Drawn:</b> %{customdata[3]}'+\n",
    "        '<br><b>Shooting Percentage:</b> %{customdata[4]: .1f}%'\n",
    "    ),\n",
    "    link = dict(\n",
    "      source = source, # indices correspond to labels, eg A1, A2, A2, B1, ...\n",
    "      target = target,\n",
    "      value = value\n",
    "  ),domain={\n",
    "        'y': [0.43, 1.]\n",
    "    })\n",
    "\n",
    "table2=go.Table(header=dict(values=headers),\n",
    "                 cells=dict(values=[['<b>Possesions</b>','<b>Fouls Drawn</b>', '<b>FGA</b>','<b>Shooting %</b>' ,'<b>Turnovers</b>','<b>Turnover per Possesion</b>'],\n",
    "                                    [possesions_by_layer[0], fouls_drawn_by_layer[0], attempts_by_layer[0],np.round(100*shooting_percentage_by_layer[0],1),turnovers_by_layer[0],np.round(turnover_rate_by_layer[0],3)],\n",
    "                                    [possesions_by_layer[1], fouls_drawn_by_layer[1], attempts_by_layer[1],np.round(100*shooting_percentage_by_layer[1],1),turnovers_by_layer[1],np.round(turnover_rate_by_layer[1],3)],\n",
    "                                    [possesions_by_layer[2], fouls_drawn_by_layer[2], attempts_by_layer[2],np.round(100*shooting_percentage_by_layer[2],1),turnovers_by_layer[2],np.round(turnover_rate_by_layer[2],3)],\n",
    "                                    [possesions_by_layer[3], fouls_drawn_by_layer[3], attempts_by_layer[3],np.round(100*shooting_percentage_by_layer[3],1),turnovers_by_layer[3],np.round(turnover_rate_by_layer[3],2)],\n",
    "                                    [possesions_by_layer[4], fouls_drawn_by_layer[4], attempts_by_layer[4],np.round(100*shooting_percentage_by_layer[4],1),turnovers_by_layer[4],np.round(turnover_rate_by_layer[4],2)],\n",
    "                                    [possesions_by_layer[5], fouls_drawn_by_layer[5], attempts_by_layer[5],np.round(100*shooting_percentage_by_layer[5],1),turnovers_by_layer[5],np.round(turnover_rate_by_layer[5],2)],\n",
    "                                    [possesions_by_layer[6], fouls_drawn_by_layer[6], attempts_by_layer[6],np.round(100*shooting_percentage_by_layer[6],1),turnovers_by_layer[6],np.round(turnover_rate_by_layer[6],2)]\n",
    "                                   ]),domain={\n",
    "        'y': [0, 0.4]\n",
    "    })"
   ]
  },
  {
   "cell_type": "code",
   "execution_count": 384,
   "metadata": {},
   "outputs": [
    {
     "data": {
      "application/vnd.plotly.v1+json": {
       "config": {
        "plotlyServerURL": "https://plot.ly"
       },
       "data": [
        {
         "arrangement": "snap",
         "domain": {
          "y": [
           0.43,
           1
          ]
         },
         "link": {
          "source": [
           20,
           20,
           20,
           20,
           20,
           20,
           19,
           19,
           19,
           19,
           2,
           2,
           21,
           5,
           5,
           14,
           14,
           22,
           22,
           22,
           22,
           26,
           26,
           26,
           26,
           26,
           26,
           23,
           23,
           23,
           23,
           11,
           16,
           27,
           25,
           25,
           8,
           13,
           13,
           13,
           13,
           3,
           3,
           3,
           15,
           24,
           24,
           7,
           7,
           10,
           10,
           10,
           4,
           4,
           17,
           1,
           1,
           12,
           28,
           30
          ],
          "target": [
           19,
           5,
           22,
           26,
           13,
           7,
           2,
           10,
           23,
           4,
           21,
           16,
           11,
           14,
           3,
           17,
           1,
           23,
           14,
           4,
           2,
           23,
           3,
           4,
           14,
           24,
           10,
           21,
           25,
           16,
           28,
           0,
           27,
           18,
           8,
           6,
           12,
           3,
           24,
           14,
           4,
           25,
           15,
           21,
           11,
           25,
           21,
           4,
           23,
           21,
           25,
           16,
           16,
           1,
           8,
           8,
           11,
           29,
           30,
           9
          ],
          "value": [
           16,
           9,
           9,
           15,
           10,
           3,
           2,
           4,
           6,
           2,
           1,
           1,
           2,
           4,
           1,
           2,
           4,
           2,
           1,
           3,
           1,
           1,
           2,
           2,
           3,
           2,
           1,
           2,
           1,
           2,
           1,
           1,
           1,
           1,
           1,
           2,
           1,
           2,
           1,
           2,
           2,
           1,
           1,
           1,
           1,
           1,
           1,
           1,
           1,
           1,
           1,
           1,
           1,
           1,
           1,
           2,
           1,
           1,
           1,
           1
          ]
         },
         "node": {
          "color": [
           "white",
           "white",
           "black",
           "orange",
           "red",
           "white",
           "white",
           "orange",
           "grey",
           "grey",
           "brown",
           "red",
           "brown",
           "brown",
           "yellow",
           "brown",
           "grey",
           "black",
           "black",
           "yellow",
           "red",
           "yellow",
           "grey",
           "white",
           "grey",
           "red",
           "black",
           "yellow",
           "orange",
           "red",
           "brown"
          ],
          "customdata": [
           [
            0,
            1,
            0,
            0,
            100
           ],
           [
            1,
            1,
            0,
            0,
            100
           ],
           [
            1,
            0,
            1,
            0,
            0
           ],
           [
            0,
            0,
            2,
            0,
            0
           ],
           [
            0,
            4,
            3,
            0,
            57.142857142857146
           ],
           [
            0,
            3,
            2,
            0,
            60
           ],
           [
            0,
            0,
            2,
            0,
            0
           ],
           [
            1,
            0,
            0,
            0,
            "NA"
           ],
           [
            0,
            0,
            3,
            0,
            0
           ],
           [
            0,
            0,
            1,
            0,
            0
           ],
           [
            0,
            2,
            1,
            0,
            66.66666666666667
           ],
           [
            0,
            1,
            0,
            2,
            100
           ],
           [
            0,
            0,
            0,
            0,
            "NA"
           ],
           [
            0,
            3,
            2,
            2,
            60
           ],
           [
            1,
            1,
            2,
            1,
            33.333333333333336
           ],
           [
            0,
            0,
            0,
            0,
            "NA"
           ],
           [
            2,
            1,
            1,
            1,
            50
           ],
           [
            0,
            0,
            1,
            0,
            0
           ],
           [
            0,
            1,
            0,
            0,
            100
           ],
           [
            1,
            2,
            2,
            1,
            50
           ],
           [
            3,
            2,
            5,
            5,
            28.571428571428573
           ],
           [
            1,
            2,
            0,
            1,
            100
           ],
           [
            1,
            2,
            2,
            0,
            50
           ],
           [
            0,
            2,
            2,
            2,
            50
           ],
           [
            0,
            0,
            1,
            0,
            0
           ],
           [
            0,
            1,
            0,
            0,
            100
           ],
           [
            0,
            3,
            4,
            0,
            42.857142857142854
           ],
           [
            0,
            0,
            0,
            0,
            "NA"
           ],
           [
            0,
            0,
            0,
            0,
            "NA"
           ],
           [
            0,
            1,
            0,
            0,
            100
           ],
           [
            0,
            0,
            0,
            0,
            "NA"
           ]
          ],
          "hovertemplate": "<b>Passes Received:</b> %{value: 0f}<br><b>Turnovers:</b> %{customdata[0]}<br><b>Makes:</b> %{customdata[1]}<br><b>Misses:</b> %{customdata[2]}<br><b>Fouls Drawn:</b> %{customdata[3]}<br><b>Shooting Percentage:</b> %{customdata[4]: .1f}%",
          "label": [
           "Robinson",
           "Robinson",
           "Herro",
           "Iguodala",
           "Butler",
           "Robinson",
           "Robinson",
           "Iguodala",
           "Crowder",
           "Crowder",
           "Nunn",
           "Butler",
           "Nunn",
           "Nunn",
           "Adebayo",
           "Nunn",
           "Crowder",
           "Herro",
           "Herro",
           "Adebayo",
           "Butler",
           "Adebayo",
           "Crowder",
           "Robinson",
           "Crowder",
           "Butler",
           "Herro",
           "Adebayo",
           "Iguodala",
           "Butler",
           "Nunn"
          ],
          "line": {
           "color": "black",
           "width": 0.5
          },
          "pad": 15,
          "thickness": 20,
          "x": [
           0.8333333333333334,
           0.5,
           0.3333333333333333,
           0.3333333333333333,
           0.3333333333333333,
           0.16666666666666666,
           0.6666666666666666,
           0.16666666666666666,
           0.6666666666666666,
           0.8333333333333334,
           0.3333333333333333,
           0.6666666666666666,
           0.8333333333333334,
           0.16666666666666666,
           0.3333333333333333,
           0.5,
           0.5,
           0.5,
           0.8333333333333334,
           0.16666666666666666,
           0,
           0.5,
           0.16666666666666666,
           0.3333333333333333,
           0.3333333333333333,
           0.5,
           0.16666666666666666,
           0.6666666666666666,
           0.5,
           1,
           0.6666666666666666
          ],
          "y": [
           0.05,
           0.05,
           0.05,
           0.14285714285714285,
           0.2857142857142857,
           0.05,
           0.05,
           0.16666666666666666,
           0.2,
           0.25,
           0.42857142857142855,
           0.4,
           0.5,
           0.3333333333333333,
           0.5714285714285714,
           0.14285714285714285,
           0.2857142857142857,
           0.42857142857142855,
           0.75,
           0.5,
           0.05,
           0.5714285714285714,
           0.6666666666666666,
           0.7142857142857143,
           0.8571428571428571,
           0.7142857142857143,
           0.8333333333333334,
           0.6,
           0.8571428571428571,
           0.05,
           0.8
          ]
         },
         "type": "sankey"
        },
        {
         "cells": {
          "values": [
           [
            "<b>Possesions</b>",
            "<b>Fouls Drawn</b>",
            "<b>FGA</b>",
            "<b>Shooting %</b>",
            "<b>Turnovers</b>",
            "<b>Turnover per Possesion</b>"
           ],
           [
            77,
            5,
            7,
            28.6,
            3,
            0.039
           ],
           [
            79,
            3,
            25,
            52,
            3,
            0.038
           ],
           [
            52,
            3,
            21,
            42.9,
            2,
            0.038
           ],
           [
            24,
            2,
            7,
            71.4,
            4,
            0.17
           ],
           [
            12,
            2,
            6,
            16.7,
            0,
            0
           ],
           [
            4,
            0,
            3,
            66.7,
            0,
            0
           ],
           [
            1,
            0,
            1,
            100,
            0,
            0
           ]
          ]
         },
         "domain": {
          "y": [
           0,
           0.4
          ]
         },
         "header": {
          "values": [
           "",
           "<b>0th pass</b>",
           "<b>1st pass</b>",
           "<b>2nd pass</b>",
           "<b>3rd pass</b>",
           "<b>4th pass</b>",
           "<b>5th pass</b>",
           "<b>6th pass</b>"
          ]
         },
         "type": "table"
        }
       ],
       "layout": {
        "annotations": [
         {
          "showarrow": false,
          "text": "<b>0th pass</b>",
          "x": -0.01,
          "y": 1.05
         },
         {
          "showarrow": false,
          "text": "<b>1st pass</b>",
          "x": 0.14,
          "y": 1.05
         },
         {
          "showarrow": false,
          "text": "<b>2nd pass</b>",
          "x": 0.31,
          "y": 1.05
         },
         {
          "showarrow": false,
          "text": "<b>3rd pass</b>",
          "x": 0.5,
          "y": 1.05
         },
         {
          "showarrow": false,
          "text": "<b>4th pass</b>",
          "x": 0.7,
          "y": 1.05
         },
         {
          "showarrow": false,
          "text": "<b>5th pass</b>",
          "x": 0.87,
          "y": 1.05
         },
         {
          "showarrow": false,
          "text": "<b>6th pass</b>",
          "x": 1.01,
          "y": 1.05
         }
        ],
        "height": 900,
        "template": {
         "data": {
          "bar": [
           {
            "error_x": {
             "color": "#2a3f5f"
            },
            "error_y": {
             "color": "#2a3f5f"
            },
            "marker": {
             "line": {
              "color": "#E5ECF6",
              "width": 0.5
             }
            },
            "type": "bar"
           }
          ],
          "barpolar": [
           {
            "marker": {
             "line": {
              "color": "#E5ECF6",
              "width": 0.5
             }
            },
            "type": "barpolar"
           }
          ],
          "carpet": [
           {
            "aaxis": {
             "endlinecolor": "#2a3f5f",
             "gridcolor": "white",
             "linecolor": "white",
             "minorgridcolor": "white",
             "startlinecolor": "#2a3f5f"
            },
            "baxis": {
             "endlinecolor": "#2a3f5f",
             "gridcolor": "white",
             "linecolor": "white",
             "minorgridcolor": "white",
             "startlinecolor": "#2a3f5f"
            },
            "type": "carpet"
           }
          ],
          "choropleth": [
           {
            "colorbar": {
             "outlinewidth": 0,
             "ticks": ""
            },
            "type": "choropleth"
           }
          ],
          "contour": [
           {
            "colorbar": {
             "outlinewidth": 0,
             "ticks": ""
            },
            "colorscale": [
             [
              0,
              "#0d0887"
             ],
             [
              0.1111111111111111,
              "#46039f"
             ],
             [
              0.2222222222222222,
              "#7201a8"
             ],
             [
              0.3333333333333333,
              "#9c179e"
             ],
             [
              0.4444444444444444,
              "#bd3786"
             ],
             [
              0.5555555555555556,
              "#d8576b"
             ],
             [
              0.6666666666666666,
              "#ed7953"
             ],
             [
              0.7777777777777778,
              "#fb9f3a"
             ],
             [
              0.8888888888888888,
              "#fdca26"
             ],
             [
              1,
              "#f0f921"
             ]
            ],
            "type": "contour"
           }
          ],
          "contourcarpet": [
           {
            "colorbar": {
             "outlinewidth": 0,
             "ticks": ""
            },
            "type": "contourcarpet"
           }
          ],
          "heatmap": [
           {
            "colorbar": {
             "outlinewidth": 0,
             "ticks": ""
            },
            "colorscale": [
             [
              0,
              "#0d0887"
             ],
             [
              0.1111111111111111,
              "#46039f"
             ],
             [
              0.2222222222222222,
              "#7201a8"
             ],
             [
              0.3333333333333333,
              "#9c179e"
             ],
             [
              0.4444444444444444,
              "#bd3786"
             ],
             [
              0.5555555555555556,
              "#d8576b"
             ],
             [
              0.6666666666666666,
              "#ed7953"
             ],
             [
              0.7777777777777778,
              "#fb9f3a"
             ],
             [
              0.8888888888888888,
              "#fdca26"
             ],
             [
              1,
              "#f0f921"
             ]
            ],
            "type": "heatmap"
           }
          ],
          "heatmapgl": [
           {
            "colorbar": {
             "outlinewidth": 0,
             "ticks": ""
            },
            "colorscale": [
             [
              0,
              "#0d0887"
             ],
             [
              0.1111111111111111,
              "#46039f"
             ],
             [
              0.2222222222222222,
              "#7201a8"
             ],
             [
              0.3333333333333333,
              "#9c179e"
             ],
             [
              0.4444444444444444,
              "#bd3786"
             ],
             [
              0.5555555555555556,
              "#d8576b"
             ],
             [
              0.6666666666666666,
              "#ed7953"
             ],
             [
              0.7777777777777778,
              "#fb9f3a"
             ],
             [
              0.8888888888888888,
              "#fdca26"
             ],
             [
              1,
              "#f0f921"
             ]
            ],
            "type": "heatmapgl"
           }
          ],
          "histogram": [
           {
            "marker": {
             "colorbar": {
              "outlinewidth": 0,
              "ticks": ""
             }
            },
            "type": "histogram"
           }
          ],
          "histogram2d": [
           {
            "colorbar": {
             "outlinewidth": 0,
             "ticks": ""
            },
            "colorscale": [
             [
              0,
              "#0d0887"
             ],
             [
              0.1111111111111111,
              "#46039f"
             ],
             [
              0.2222222222222222,
              "#7201a8"
             ],
             [
              0.3333333333333333,
              "#9c179e"
             ],
             [
              0.4444444444444444,
              "#bd3786"
             ],
             [
              0.5555555555555556,
              "#d8576b"
             ],
             [
              0.6666666666666666,
              "#ed7953"
             ],
             [
              0.7777777777777778,
              "#fb9f3a"
             ],
             [
              0.8888888888888888,
              "#fdca26"
             ],
             [
              1,
              "#f0f921"
             ]
            ],
            "type": "histogram2d"
           }
          ],
          "histogram2dcontour": [
           {
            "colorbar": {
             "outlinewidth": 0,
             "ticks": ""
            },
            "colorscale": [
             [
              0,
              "#0d0887"
             ],
             [
              0.1111111111111111,
              "#46039f"
             ],
             [
              0.2222222222222222,
              "#7201a8"
             ],
             [
              0.3333333333333333,
              "#9c179e"
             ],
             [
              0.4444444444444444,
              "#bd3786"
             ],
             [
              0.5555555555555556,
              "#d8576b"
             ],
             [
              0.6666666666666666,
              "#ed7953"
             ],
             [
              0.7777777777777778,
              "#fb9f3a"
             ],
             [
              0.8888888888888888,
              "#fdca26"
             ],
             [
              1,
              "#f0f921"
             ]
            ],
            "type": "histogram2dcontour"
           }
          ],
          "mesh3d": [
           {
            "colorbar": {
             "outlinewidth": 0,
             "ticks": ""
            },
            "type": "mesh3d"
           }
          ],
          "parcoords": [
           {
            "line": {
             "colorbar": {
              "outlinewidth": 0,
              "ticks": ""
             }
            },
            "type": "parcoords"
           }
          ],
          "pie": [
           {
            "automargin": true,
            "type": "pie"
           }
          ],
          "scatter": [
           {
            "marker": {
             "colorbar": {
              "outlinewidth": 0,
              "ticks": ""
             }
            },
            "type": "scatter"
           }
          ],
          "scatter3d": [
           {
            "line": {
             "colorbar": {
              "outlinewidth": 0,
              "ticks": ""
             }
            },
            "marker": {
             "colorbar": {
              "outlinewidth": 0,
              "ticks": ""
             }
            },
            "type": "scatter3d"
           }
          ],
          "scattercarpet": [
           {
            "marker": {
             "colorbar": {
              "outlinewidth": 0,
              "ticks": ""
             }
            },
            "type": "scattercarpet"
           }
          ],
          "scattergeo": [
           {
            "marker": {
             "colorbar": {
              "outlinewidth": 0,
              "ticks": ""
             }
            },
            "type": "scattergeo"
           }
          ],
          "scattergl": [
           {
            "marker": {
             "colorbar": {
              "outlinewidth": 0,
              "ticks": ""
             }
            },
            "type": "scattergl"
           }
          ],
          "scattermapbox": [
           {
            "marker": {
             "colorbar": {
              "outlinewidth": 0,
              "ticks": ""
             }
            },
            "type": "scattermapbox"
           }
          ],
          "scatterpolar": [
           {
            "marker": {
             "colorbar": {
              "outlinewidth": 0,
              "ticks": ""
             }
            },
            "type": "scatterpolar"
           }
          ],
          "scatterpolargl": [
           {
            "marker": {
             "colorbar": {
              "outlinewidth": 0,
              "ticks": ""
             }
            },
            "type": "scatterpolargl"
           }
          ],
          "scatterternary": [
           {
            "marker": {
             "colorbar": {
              "outlinewidth": 0,
              "ticks": ""
             }
            },
            "type": "scatterternary"
           }
          ],
          "surface": [
           {
            "colorbar": {
             "outlinewidth": 0,
             "ticks": ""
            },
            "colorscale": [
             [
              0,
              "#0d0887"
             ],
             [
              0.1111111111111111,
              "#46039f"
             ],
             [
              0.2222222222222222,
              "#7201a8"
             ],
             [
              0.3333333333333333,
              "#9c179e"
             ],
             [
              0.4444444444444444,
              "#bd3786"
             ],
             [
              0.5555555555555556,
              "#d8576b"
             ],
             [
              0.6666666666666666,
              "#ed7953"
             ],
             [
              0.7777777777777778,
              "#fb9f3a"
             ],
             [
              0.8888888888888888,
              "#fdca26"
             ],
             [
              1,
              "#f0f921"
             ]
            ],
            "type": "surface"
           }
          ],
          "table": [
           {
            "cells": {
             "fill": {
              "color": "#EBF0F8"
             },
             "line": {
              "color": "white"
             }
            },
            "header": {
             "fill": {
              "color": "#C8D4E3"
             },
             "line": {
              "color": "white"
             }
            },
            "type": "table"
           }
          ]
         },
         "layout": {
          "annotationdefaults": {
           "arrowcolor": "#2a3f5f",
           "arrowhead": 0,
           "arrowwidth": 1
          },
          "coloraxis": {
           "colorbar": {
            "outlinewidth": 0,
            "ticks": ""
           }
          },
          "colorscale": {
           "diverging": [
            [
             0,
             "#8e0152"
            ],
            [
             0.1,
             "#c51b7d"
            ],
            [
             0.2,
             "#de77ae"
            ],
            [
             0.3,
             "#f1b6da"
            ],
            [
             0.4,
             "#fde0ef"
            ],
            [
             0.5,
             "#f7f7f7"
            ],
            [
             0.6,
             "#e6f5d0"
            ],
            [
             0.7,
             "#b8e186"
            ],
            [
             0.8,
             "#7fbc41"
            ],
            [
             0.9,
             "#4d9221"
            ],
            [
             1,
             "#276419"
            ]
           ],
           "sequential": [
            [
             0,
             "#0d0887"
            ],
            [
             0.1111111111111111,
             "#46039f"
            ],
            [
             0.2222222222222222,
             "#7201a8"
            ],
            [
             0.3333333333333333,
             "#9c179e"
            ],
            [
             0.4444444444444444,
             "#bd3786"
            ],
            [
             0.5555555555555556,
             "#d8576b"
            ],
            [
             0.6666666666666666,
             "#ed7953"
            ],
            [
             0.7777777777777778,
             "#fb9f3a"
            ],
            [
             0.8888888888888888,
             "#fdca26"
            ],
            [
             1,
             "#f0f921"
            ]
           ],
           "sequentialminus": [
            [
             0,
             "#0d0887"
            ],
            [
             0.1111111111111111,
             "#46039f"
            ],
            [
             0.2222222222222222,
             "#7201a8"
            ],
            [
             0.3333333333333333,
             "#9c179e"
            ],
            [
             0.4444444444444444,
             "#bd3786"
            ],
            [
             0.5555555555555556,
             "#d8576b"
            ],
            [
             0.6666666666666666,
             "#ed7953"
            ],
            [
             0.7777777777777778,
             "#fb9f3a"
            ],
            [
             0.8888888888888888,
             "#fdca26"
            ],
            [
             1,
             "#f0f921"
            ]
           ]
          },
          "colorway": [
           "#636efa",
           "#EF553B",
           "#00cc96",
           "#ab63fa",
           "#FFA15A",
           "#19d3f3",
           "#FF6692",
           "#B6E880",
           "#FF97FF",
           "#FECB52"
          ],
          "font": {
           "color": "#2a3f5f"
          },
          "geo": {
           "bgcolor": "white",
           "lakecolor": "white",
           "landcolor": "#E5ECF6",
           "showlakes": true,
           "showland": true,
           "subunitcolor": "white"
          },
          "hoverlabel": {
           "align": "left"
          },
          "hovermode": "closest",
          "mapbox": {
           "style": "light"
          },
          "paper_bgcolor": "white",
          "plot_bgcolor": "#E5ECF6",
          "polar": {
           "angularaxis": {
            "gridcolor": "white",
            "linecolor": "white",
            "ticks": ""
           },
           "bgcolor": "#E5ECF6",
           "radialaxis": {
            "gridcolor": "white",
            "linecolor": "white",
            "ticks": ""
           }
          },
          "scene": {
           "xaxis": {
            "backgroundcolor": "#E5ECF6",
            "gridcolor": "white",
            "gridwidth": 2,
            "linecolor": "white",
            "showbackground": true,
            "ticks": "",
            "zerolinecolor": "white"
           },
           "yaxis": {
            "backgroundcolor": "#E5ECF6",
            "gridcolor": "white",
            "gridwidth": 2,
            "linecolor": "white",
            "showbackground": true,
            "ticks": "",
            "zerolinecolor": "white"
           },
           "zaxis": {
            "backgroundcolor": "#E5ECF6",
            "gridcolor": "white",
            "gridwidth": 2,
            "linecolor": "white",
            "showbackground": true,
            "ticks": "",
            "zerolinecolor": "white"
           }
          },
          "shapedefaults": {
           "line": {
            "color": "#2a3f5f"
           }
          },
          "ternary": {
           "aaxis": {
            "gridcolor": "white",
            "linecolor": "white",
            "ticks": ""
           },
           "baxis": {
            "gridcolor": "white",
            "linecolor": "white",
            "ticks": ""
           },
           "bgcolor": "#E5ECF6",
           "caxis": {
            "gridcolor": "white",
            "linecolor": "white",
            "ticks": ""
           }
          },
          "title": {
           "x": 0.05
          },
          "xaxis": {
           "automargin": true,
           "gridcolor": "white",
           "linecolor": "white",
           "ticks": "",
           "title": {
            "standoff": 15
           },
           "zerolinecolor": "white",
           "zerolinewidth": 2
          },
          "yaxis": {
           "automargin": true,
           "gridcolor": "white",
           "linecolor": "white",
           "ticks": "",
           "title": {
            "standoff": 15
           },
           "zerolinecolor": "white",
           "zerolinewidth": 2
          }
         }
        },
        "title": {
         "text": "Miami Heat Passing Sequences, vs LA Lakers 10/9/2020"
        }
       }
      },
      "text/html": [
       "<div>\n",
       "        \n",
       "        \n",
       "            <div id=\"6c785096-8c44-4cfd-8725-2c8542a122f8\" class=\"plotly-graph-div\" style=\"height:900px; width:100%;\"></div>\n",
       "            <script type=\"text/javascript\">\n",
       "                require([\"plotly\"], function(Plotly) {\n",
       "                    window.PLOTLYENV=window.PLOTLYENV || {};\n",
       "                    \n",
       "                if (document.getElementById(\"6c785096-8c44-4cfd-8725-2c8542a122f8\")) {\n",
       "                    Plotly.newPlot(\n",
       "                        '6c785096-8c44-4cfd-8725-2c8542a122f8',\n",
       "                        [{\"arrangement\": \"snap\", \"domain\": {\"y\": [0.43, 1.0]}, \"link\": {\"source\": [20, 20, 20, 20, 20, 20, 19, 19, 19, 19, 2, 2, 21, 5, 5, 14, 14, 22, 22, 22, 22, 26, 26, 26, 26, 26, 26, 23, 23, 23, 23, 11, 16, 27, 25, 25, 8, 13, 13, 13, 13, 3, 3, 3, 15, 24, 24, 7, 7, 10, 10, 10, 4, 4, 17, 1, 1, 12, 28, 30], \"target\": [19, 5, 22, 26, 13, 7, 2, 10, 23, 4, 21, 16, 11, 14, 3, 17, 1, 23, 14, 4, 2, 23, 3, 4, 14, 24, 10, 21, 25, 16, 28, 0, 27, 18, 8, 6, 12, 3, 24, 14, 4, 25, 15, 21, 11, 25, 21, 4, 23, 21, 25, 16, 16, 1, 8, 8, 11, 29, 30, 9], \"value\": [16, 9, 9, 15, 10, 3, 2, 4, 6, 2, 1, 1, 2, 4, 1, 2, 4, 2, 1, 3, 1, 1, 2, 2, 3, 2, 1, 2, 1, 2, 1, 1, 1, 1, 1, 2, 1, 2, 1, 2, 2, 1, 1, 1, 1, 1, 1, 1, 1, 1, 1, 1, 1, 1, 1, 2, 1, 1, 1, 1]}, \"node\": {\"color\": [\"white\", \"white\", \"black\", \"orange\", \"red\", \"white\", \"white\", \"orange\", \"grey\", \"grey\", \"brown\", \"red\", \"brown\", \"brown\", \"yellow\", \"brown\", \"grey\", \"black\", \"black\", \"yellow\", \"red\", \"yellow\", \"grey\", \"white\", \"grey\", \"red\", \"black\", \"yellow\", \"orange\", \"red\", \"brown\"], \"customdata\": [[0, 1, 0, 0, 100.0], [1, 1, 0, 0, 100.0], [1, 0, 1, 0, 0.0], [0, 0, 2, 0, 0.0], [0, 4, 3, 0, 57.142857142857146], [0, 3, 2, 0, 60.0], [0, 0, 2, 0, 0.0], [1, 0, 0, 0, \"NA\"], [0, 0, 3, 0, 0.0], [0, 0, 1, 0, 0.0], [0, 2, 1, 0, 66.66666666666667], [0, 1, 0, 2, 100.0], [0, 0, 0, 0, \"NA\"], [0, 3, 2, 2, 60.0], [1, 1, 2, 1, 33.333333333333336], [0, 0, 0, 0, \"NA\"], [2, 1, 1, 1, 50.0], [0, 0, 1, 0, 0.0], [0, 1, 0, 0, 100.0], [1, 2, 2, 1, 50.0], [3, 2, 5, 5, 28.571428571428573], [1, 2, 0, 1, 100.0], [1, 2, 2, 0, 50.0], [0, 2, 2, 2, 50.0], [0, 0, 1, 0, 0.0], [0, 1, 0, 0, 100.0], [0, 3, 4, 0, 42.857142857142854], [0, 0, 0, 0, \"NA\"], [0, 0, 0, 0, \"NA\"], [0, 1, 0, 0, 100.0], [0, 0, 0, 0, \"NA\"]], \"hovertemplate\": \"<b>Passes Received:</b> %{value: 0f}<br><b>Turnovers:</b> %{customdata[0]}<br><b>Makes:</b> %{customdata[1]}<br><b>Misses:</b> %{customdata[2]}<br><b>Fouls Drawn:</b> %{customdata[3]}<br><b>Shooting Percentage:</b> %{customdata[4]: .1f}%\", \"label\": [\"Robinson\", \"Robinson\", \"Herro\", \"Iguodala\", \"Butler\", \"Robinson\", \"Robinson\", \"Iguodala\", \"Crowder\", \"Crowder\", \"Nunn\", \"Butler\", \"Nunn\", \"Nunn\", \"Adebayo\", \"Nunn\", \"Crowder\", \"Herro\", \"Herro\", \"Adebayo\", \"Butler\", \"Adebayo\", \"Crowder\", \"Robinson\", \"Crowder\", \"Butler\", \"Herro\", \"Adebayo\", \"Iguodala\", \"Butler\", \"Nunn\"], \"line\": {\"color\": \"black\", \"width\": 0.5}, \"pad\": 15, \"thickness\": 20, \"x\": [0.8333333333333334, 0.5, 0.3333333333333333, 0.3333333333333333, 0.3333333333333333, 0.16666666666666666, 0.6666666666666666, 0.16666666666666666, 0.6666666666666666, 0.8333333333333334, 0.3333333333333333, 0.6666666666666666, 0.8333333333333334, 0.16666666666666666, 0.3333333333333333, 0.5, 0.5, 0.5, 0.8333333333333334, 0.16666666666666666, 0.0, 0.5, 0.16666666666666666, 0.3333333333333333, 0.3333333333333333, 0.5, 0.16666666666666666, 0.6666666666666666, 0.5, 1.0, 0.6666666666666666], \"y\": [0.05, 0.05, 0.05, 0.14285714285714285, 0.2857142857142857, 0.05, 0.05, 0.16666666666666666, 0.2, 0.25, 0.42857142857142855, 0.4, 0.5, 0.3333333333333333, 0.5714285714285714, 0.14285714285714285, 0.2857142857142857, 0.42857142857142855, 0.75, 0.5, 0.05, 0.5714285714285714, 0.6666666666666666, 0.7142857142857143, 0.8571428571428571, 0.7142857142857143, 0.8333333333333334, 0.6, 0.8571428571428571, 0.05, 0.8]}, \"type\": \"sankey\"}, {\"cells\": {\"values\": [[\"<b>Possesions</b>\", \"<b>Fouls Drawn</b>\", \"<b>FGA</b>\", \"<b>Shooting %</b>\", \"<b>Turnovers</b>\", \"<b>Turnover per Possesion</b>\"], [77, 5, 7, 28.6, 3, 0.039], [79, 3, 25, 52.0, 3, 0.038], [52, 3, 21, 42.9, 2, 0.038], [24, 2, 7, 71.4, 4, 0.17], [12, 2, 6, 16.7, 0, 0.0], [4, 0, 3, 66.7, 0, 0.0], [1, 0, 1, 100.0, 0, 0.0]]}, \"domain\": {\"y\": [0, 0.4]}, \"header\": {\"values\": [\"\", \"<b>0th pass</b>\", \"<b>1st pass</b>\", \"<b>2nd pass</b>\", \"<b>3rd pass</b>\", \"<b>4th pass</b>\", \"<b>5th pass</b>\", \"<b>6th pass</b>\"]}, \"type\": \"table\"}],\n",
       "                        {\"annotations\": [{\"showarrow\": false, \"text\": \"<b>0th pass</b>\", \"x\": -0.01, \"y\": 1.05}, {\"showarrow\": false, \"text\": \"<b>1st pass</b>\", \"x\": 0.14, \"y\": 1.05}, {\"showarrow\": false, \"text\": \"<b>2nd pass</b>\", \"x\": 0.31, \"y\": 1.05}, {\"showarrow\": false, \"text\": \"<b>3rd pass</b>\", \"x\": 0.5, \"y\": 1.05}, {\"showarrow\": false, \"text\": \"<b>4th pass</b>\", \"x\": 0.7, \"y\": 1.05}, {\"showarrow\": false, \"text\": \"<b>5th pass</b>\", \"x\": 0.87, \"y\": 1.05}, {\"showarrow\": false, \"text\": \"<b>6th pass</b>\", \"x\": 1.01, \"y\": 1.05}], \"height\": 900, \"template\": {\"data\": {\"bar\": [{\"error_x\": {\"color\": \"#2a3f5f\"}, \"error_y\": {\"color\": \"#2a3f5f\"}, \"marker\": {\"line\": {\"color\": \"#E5ECF6\", \"width\": 0.5}}, \"type\": \"bar\"}], \"barpolar\": [{\"marker\": {\"line\": {\"color\": \"#E5ECF6\", \"width\": 0.5}}, \"type\": \"barpolar\"}], \"carpet\": [{\"aaxis\": {\"endlinecolor\": \"#2a3f5f\", \"gridcolor\": \"white\", \"linecolor\": \"white\", \"minorgridcolor\": \"white\", \"startlinecolor\": \"#2a3f5f\"}, \"baxis\": {\"endlinecolor\": \"#2a3f5f\", \"gridcolor\": \"white\", \"linecolor\": \"white\", \"minorgridcolor\": \"white\", \"startlinecolor\": \"#2a3f5f\"}, \"type\": \"carpet\"}], \"choropleth\": [{\"colorbar\": {\"outlinewidth\": 0, \"ticks\": \"\"}, \"type\": \"choropleth\"}], \"contour\": [{\"colorbar\": {\"outlinewidth\": 0, \"ticks\": \"\"}, \"colorscale\": [[0.0, \"#0d0887\"], [0.1111111111111111, \"#46039f\"], [0.2222222222222222, \"#7201a8\"], [0.3333333333333333, \"#9c179e\"], [0.4444444444444444, \"#bd3786\"], [0.5555555555555556, \"#d8576b\"], [0.6666666666666666, \"#ed7953\"], [0.7777777777777778, \"#fb9f3a\"], [0.8888888888888888, \"#fdca26\"], [1.0, \"#f0f921\"]], \"type\": \"contour\"}], \"contourcarpet\": [{\"colorbar\": {\"outlinewidth\": 0, \"ticks\": \"\"}, \"type\": \"contourcarpet\"}], \"heatmap\": [{\"colorbar\": {\"outlinewidth\": 0, \"ticks\": \"\"}, \"colorscale\": [[0.0, \"#0d0887\"], [0.1111111111111111, \"#46039f\"], [0.2222222222222222, \"#7201a8\"], [0.3333333333333333, \"#9c179e\"], [0.4444444444444444, \"#bd3786\"], [0.5555555555555556, \"#d8576b\"], [0.6666666666666666, \"#ed7953\"], [0.7777777777777778, \"#fb9f3a\"], [0.8888888888888888, \"#fdca26\"], [1.0, \"#f0f921\"]], \"type\": \"heatmap\"}], \"heatmapgl\": [{\"colorbar\": {\"outlinewidth\": 0, \"ticks\": \"\"}, \"colorscale\": [[0.0, \"#0d0887\"], [0.1111111111111111, \"#46039f\"], [0.2222222222222222, \"#7201a8\"], [0.3333333333333333, \"#9c179e\"], [0.4444444444444444, \"#bd3786\"], [0.5555555555555556, \"#d8576b\"], [0.6666666666666666, \"#ed7953\"], [0.7777777777777778, \"#fb9f3a\"], [0.8888888888888888, \"#fdca26\"], [1.0, \"#f0f921\"]], \"type\": \"heatmapgl\"}], \"histogram\": [{\"marker\": {\"colorbar\": {\"outlinewidth\": 0, \"ticks\": \"\"}}, \"type\": \"histogram\"}], \"histogram2d\": [{\"colorbar\": {\"outlinewidth\": 0, \"ticks\": \"\"}, \"colorscale\": [[0.0, \"#0d0887\"], [0.1111111111111111, \"#46039f\"], [0.2222222222222222, \"#7201a8\"], [0.3333333333333333, \"#9c179e\"], [0.4444444444444444, \"#bd3786\"], [0.5555555555555556, \"#d8576b\"], [0.6666666666666666, \"#ed7953\"], [0.7777777777777778, \"#fb9f3a\"], [0.8888888888888888, \"#fdca26\"], [1.0, \"#f0f921\"]], \"type\": \"histogram2d\"}], \"histogram2dcontour\": [{\"colorbar\": {\"outlinewidth\": 0, \"ticks\": \"\"}, \"colorscale\": [[0.0, \"#0d0887\"], [0.1111111111111111, \"#46039f\"], [0.2222222222222222, \"#7201a8\"], [0.3333333333333333, \"#9c179e\"], [0.4444444444444444, \"#bd3786\"], [0.5555555555555556, \"#d8576b\"], [0.6666666666666666, \"#ed7953\"], [0.7777777777777778, \"#fb9f3a\"], [0.8888888888888888, \"#fdca26\"], [1.0, \"#f0f921\"]], \"type\": \"histogram2dcontour\"}], \"mesh3d\": [{\"colorbar\": {\"outlinewidth\": 0, \"ticks\": \"\"}, \"type\": \"mesh3d\"}], \"parcoords\": [{\"line\": {\"colorbar\": {\"outlinewidth\": 0, \"ticks\": \"\"}}, \"type\": \"parcoords\"}], \"pie\": [{\"automargin\": true, \"type\": \"pie\"}], \"scatter\": [{\"marker\": {\"colorbar\": {\"outlinewidth\": 0, \"ticks\": \"\"}}, \"type\": \"scatter\"}], \"scatter3d\": [{\"line\": {\"colorbar\": {\"outlinewidth\": 0, \"ticks\": \"\"}}, \"marker\": {\"colorbar\": {\"outlinewidth\": 0, \"ticks\": \"\"}}, \"type\": \"scatter3d\"}], \"scattercarpet\": [{\"marker\": {\"colorbar\": {\"outlinewidth\": 0, \"ticks\": \"\"}}, \"type\": \"scattercarpet\"}], \"scattergeo\": [{\"marker\": {\"colorbar\": {\"outlinewidth\": 0, \"ticks\": \"\"}}, \"type\": \"scattergeo\"}], \"scattergl\": [{\"marker\": {\"colorbar\": {\"outlinewidth\": 0, \"ticks\": \"\"}}, \"type\": \"scattergl\"}], \"scattermapbox\": [{\"marker\": {\"colorbar\": {\"outlinewidth\": 0, \"ticks\": \"\"}}, \"type\": \"scattermapbox\"}], \"scatterpolar\": [{\"marker\": {\"colorbar\": {\"outlinewidth\": 0, \"ticks\": \"\"}}, \"type\": \"scatterpolar\"}], \"scatterpolargl\": [{\"marker\": {\"colorbar\": {\"outlinewidth\": 0, \"ticks\": \"\"}}, \"type\": \"scatterpolargl\"}], \"scatterternary\": [{\"marker\": {\"colorbar\": {\"outlinewidth\": 0, \"ticks\": \"\"}}, \"type\": \"scatterternary\"}], \"surface\": [{\"colorbar\": {\"outlinewidth\": 0, \"ticks\": \"\"}, \"colorscale\": [[0.0, \"#0d0887\"], [0.1111111111111111, \"#46039f\"], [0.2222222222222222, \"#7201a8\"], [0.3333333333333333, \"#9c179e\"], [0.4444444444444444, \"#bd3786\"], [0.5555555555555556, \"#d8576b\"], [0.6666666666666666, \"#ed7953\"], [0.7777777777777778, \"#fb9f3a\"], [0.8888888888888888, \"#fdca26\"], [1.0, \"#f0f921\"]], \"type\": \"surface\"}], \"table\": [{\"cells\": {\"fill\": {\"color\": \"#EBF0F8\"}, \"line\": {\"color\": \"white\"}}, \"header\": {\"fill\": {\"color\": \"#C8D4E3\"}, \"line\": {\"color\": \"white\"}}, \"type\": \"table\"}]}, \"layout\": {\"annotationdefaults\": {\"arrowcolor\": \"#2a3f5f\", \"arrowhead\": 0, \"arrowwidth\": 1}, \"coloraxis\": {\"colorbar\": {\"outlinewidth\": 0, \"ticks\": \"\"}}, \"colorscale\": {\"diverging\": [[0, \"#8e0152\"], [0.1, \"#c51b7d\"], [0.2, \"#de77ae\"], [0.3, \"#f1b6da\"], [0.4, \"#fde0ef\"], [0.5, \"#f7f7f7\"], [0.6, \"#e6f5d0\"], [0.7, \"#b8e186\"], [0.8, \"#7fbc41\"], [0.9, \"#4d9221\"], [1, \"#276419\"]], \"sequential\": [[0.0, \"#0d0887\"], [0.1111111111111111, \"#46039f\"], [0.2222222222222222, \"#7201a8\"], [0.3333333333333333, \"#9c179e\"], [0.4444444444444444, \"#bd3786\"], [0.5555555555555556, \"#d8576b\"], [0.6666666666666666, \"#ed7953\"], [0.7777777777777778, \"#fb9f3a\"], [0.8888888888888888, \"#fdca26\"], [1.0, \"#f0f921\"]], \"sequentialminus\": [[0.0, \"#0d0887\"], [0.1111111111111111, \"#46039f\"], [0.2222222222222222, \"#7201a8\"], [0.3333333333333333, \"#9c179e\"], [0.4444444444444444, \"#bd3786\"], [0.5555555555555556, \"#d8576b\"], [0.6666666666666666, \"#ed7953\"], [0.7777777777777778, \"#fb9f3a\"], [0.8888888888888888, \"#fdca26\"], [1.0, \"#f0f921\"]]}, \"colorway\": [\"#636efa\", \"#EF553B\", \"#00cc96\", \"#ab63fa\", \"#FFA15A\", \"#19d3f3\", \"#FF6692\", \"#B6E880\", \"#FF97FF\", \"#FECB52\"], \"font\": {\"color\": \"#2a3f5f\"}, \"geo\": {\"bgcolor\": \"white\", \"lakecolor\": \"white\", \"landcolor\": \"#E5ECF6\", \"showlakes\": true, \"showland\": true, \"subunitcolor\": \"white\"}, \"hoverlabel\": {\"align\": \"left\"}, \"hovermode\": \"closest\", \"mapbox\": {\"style\": \"light\"}, \"paper_bgcolor\": \"white\", \"plot_bgcolor\": \"#E5ECF6\", \"polar\": {\"angularaxis\": {\"gridcolor\": \"white\", \"linecolor\": \"white\", \"ticks\": \"\"}, \"bgcolor\": \"#E5ECF6\", \"radialaxis\": {\"gridcolor\": \"white\", \"linecolor\": \"white\", \"ticks\": \"\"}}, \"scene\": {\"xaxis\": {\"backgroundcolor\": \"#E5ECF6\", \"gridcolor\": \"white\", \"gridwidth\": 2, \"linecolor\": \"white\", \"showbackground\": true, \"ticks\": \"\", \"zerolinecolor\": \"white\"}, \"yaxis\": {\"backgroundcolor\": \"#E5ECF6\", \"gridcolor\": \"white\", \"gridwidth\": 2, \"linecolor\": \"white\", \"showbackground\": true, \"ticks\": \"\", \"zerolinecolor\": \"white\"}, \"zaxis\": {\"backgroundcolor\": \"#E5ECF6\", \"gridcolor\": \"white\", \"gridwidth\": 2, \"linecolor\": \"white\", \"showbackground\": true, \"ticks\": \"\", \"zerolinecolor\": \"white\"}}, \"shapedefaults\": {\"line\": {\"color\": \"#2a3f5f\"}}, \"ternary\": {\"aaxis\": {\"gridcolor\": \"white\", \"linecolor\": \"white\", \"ticks\": \"\"}, \"baxis\": {\"gridcolor\": \"white\", \"linecolor\": \"white\", \"ticks\": \"\"}, \"bgcolor\": \"#E5ECF6\", \"caxis\": {\"gridcolor\": \"white\", \"linecolor\": \"white\", \"ticks\": \"\"}}, \"title\": {\"x\": 0.05}, \"xaxis\": {\"automargin\": true, \"gridcolor\": \"white\", \"linecolor\": \"white\", \"ticks\": \"\", \"title\": {\"standoff\": 15}, \"zerolinecolor\": \"white\", \"zerolinewidth\": 2}, \"yaxis\": {\"automargin\": true, \"gridcolor\": \"white\", \"linecolor\": \"white\", \"ticks\": \"\", \"title\": {\"standoff\": 15}, \"zerolinecolor\": \"white\", \"zerolinewidth\": 2}}}, \"title\": {\"text\": \"Miami Heat Passing Sequences, vs LA Lakers 10/9/2020\"}},\n",
       "                        {\"responsive\": true}\n",
       "                    ).then(function(){\n",
       "                            \n",
       "var gd = document.getElementById('6c785096-8c44-4cfd-8725-2c8542a122f8');\n",
       "var x = new MutationObserver(function (mutations, observer) {{\n",
       "        var display = window.getComputedStyle(gd).display;\n",
       "        if (!display || display === 'none') {{\n",
       "            console.log([gd, 'removed!']);\n",
       "            Plotly.purge(gd);\n",
       "            observer.disconnect();\n",
       "        }}\n",
       "}});\n",
       "\n",
       "// Listen for the removal of the full notebook cells\n",
       "var notebookContainer = gd.closest('#notebook-container');\n",
       "if (notebookContainer) {{\n",
       "    x.observe(notebookContainer, {childList: true});\n",
       "}}\n",
       "\n",
       "// Listen for the clearing of the current output cell\n",
       "var outputEl = gd.closest('.output');\n",
       "if (outputEl) {{\n",
       "    x.observe(outputEl, {childList: true});\n",
       "}}\n",
       "\n",
       "                        })\n",
       "                };\n",
       "                });\n",
       "            </script>\n",
       "        </div>"
      ]
     },
     "metadata": {},
     "output_type": "display_data"
    }
   ],
   "source": [
    "from plotly.subplots import make_subplots\n",
    "import plotly.graph_objects as go\n",
    "fig2 = go.Figure(data=[sankey,table2])\n",
    "fig2.update_layout(title_text=\"Miami Heat Passing Sequences, vs LA Lakers 10/9/2020\", height=900)\n",
    "fig2.add_annotation(x=-0.01, y=1.05,\n",
    "            text=\"<b>0th pass</b>\", showarrow=False)\n",
    "\n",
    "fig2.add_annotation(x=0.14, y=1.05,\n",
    "            text=\"<b>1st pass</b>\", showarrow=False)\n",
    "\n",
    "fig2.add_annotation(x=0.31, y=1.05,\n",
    "            text=\"<b>2nd pass</b>\", showarrow=False)\n",
    "\n",
    "fig2.add_annotation(x=0.5, y=1.05,\n",
    "            text=\"<b>3rd pass</b>\", showarrow=False)\n",
    "\n",
    "fig2.add_annotation(x=0.7, y=1.05,\n",
    "            text=\"<b>4th pass</b>\", showarrow=False)\n",
    "\n",
    "fig2.add_annotation(x=0.87, y=1.05,\n",
    "            text=\"<b>5th pass</b>\", showarrow=False)\n",
    "\n",
    "fig2.add_annotation(x=1.01, y=1.05,\n",
    "            text=\"<b>6th pass</b>\", showarrow=False)\n",
    "fig2.show()\n",
    "#fig2.write_html('Sankey_custom_data.html')"
   ]
  },
  {
   "cell_type": "code",
   "execution_count": 382,
   "metadata": {},
   "outputs": [],
   "source": [
    "paragraph='**Hypothesis**: Longer passing sequences result in successful possesions more often than shorter sequences.\\n\\nThis visualization represents all passing sequences initialized by Jimmy Butler of the Miami Heat against the LA Lakers in game 5 of the 2020 NBA Finals. The player who initializes the possesion is the player who brings the ball past half court or inbounds the ball in the frontcourt. Only possesions initialized by Jimmy Butler are shown here. Jimmy Butler accounted for 73.3% of all initializations.\\n\\nSummary statistics by passing layer are shown. For example, FGA for the 1st pass layer represents the number of Field Goals Attempted for all players who received the first pass in a passing sequence.\\n\\n All data recorded manually from game 5 of 2020 NBA Finals and can be found [here](https://github.com/brendenconnors/HW4-Network).' \n"
   ]
  },
  {
   "cell_type": "code",
   "execution_count": 383,
   "metadata": {},
   "outputs": [
    {
     "name": "stdout",
     "output_type": "stream",
     "text": [
      " * Serving Flask app \"__main__\" (lazy loading)\n",
      " * Environment: production\n",
      "   WARNING: This is a development server. Do not use it in a production deployment.\n",
      "   Use a production WSGI server instead.\n",
      " * Debug mode: off\n"
     ]
    },
    {
     "name": "stderr",
     "output_type": "stream",
     "text": [
      " * Running on http://127.0.0.1:8050/ (Press CTRL+C to quit)\n",
      "127.0.0.1 - - [02/Nov/2020 12:40:11] \"\u001b[37mGET / HTTP/1.1\u001b[0m\" 200 -\n",
      "127.0.0.1 - - [02/Nov/2020 12:40:11] \"\u001b[37mGET /_dash-component-suites/dash_renderer/react@16.8.6.min.js?v=1.1.2&m=1576595738 HTTP/1.1\u001b[0m\" 200 -\n",
      "127.0.0.1 - - [02/Nov/2020 12:40:11] \"\u001b[37mGET /_dash-component-suites/dash_renderer/prop-types@15.7.2.min.js?v=1.1.2&m=1576595738 HTTP/1.1\u001b[0m\" 200 -\n",
      "127.0.0.1 - - [02/Nov/2020 12:40:11] \"\u001b[37mGET /_dash-component-suites/dash_renderer/react-dom@16.8.6.min.js?v=1.1.2&m=1576595738 HTTP/1.1\u001b[0m\" 200 -\n",
      "127.0.0.1 - - [02/Nov/2020 12:40:11] \"\u001b[37mGET /_dash-component-suites/dash_html_components/dash_html_components.min.js?v=1.0.1&m=1576596177 HTTP/1.1\u001b[0m\" 200 -\n",
      "127.0.0.1 - - [02/Nov/2020 12:40:12] \"\u001b[37mGET /_dash-component-suites/dash_core_components/highlight.pack.js?v=1.3.1&m=1576595950 HTTP/1.1\u001b[0m\" 200 -\n",
      "127.0.0.1 - - [02/Nov/2020 12:40:12] \"\u001b[37mGET /_dash-component-suites/dash_renderer/dash_renderer.min.js?v=1.1.2&m=1576595738 HTTP/1.1\u001b[0m\" 200 -\n",
      "127.0.0.1 - - [02/Nov/2020 12:40:12] \"\u001b[37mGET /_dash-component-suites/dash_core_components/dash_core_components.min.js?v=1.3.1&m=1576595950 HTTP/1.1\u001b[0m\" 200 -\n",
      "127.0.0.1 - - [02/Nov/2020 12:40:12] \"\u001b[37mGET /_dash-component-suites/dash_core_components/plotly-1.50.1.min.js?v=1.3.1&m=1576595950 HTTP/1.1\u001b[0m\" 200 -\n",
      "127.0.0.1 - - [02/Nov/2020 12:40:12] \"\u001b[37mGET /_dash-layout HTTP/1.1\u001b[0m\" 200 -\n",
      "127.0.0.1 - - [02/Nov/2020 12:40:12] \"\u001b[37mGET /_dash-dependencies HTTP/1.1\u001b[0m\" 200 -\n",
      "127.0.0.1 - - [02/Nov/2020 12:40:12] \"\u001b[37mGET /_favicon.ico?v=1.4.1 HTTP/1.1\u001b[0m\" 200 -\n"
     ]
    }
   ],
   "source": [
    "import dash\n",
    "import dash_core_components as dcc\n",
    "import dash_html_components as html\n",
    "import plotly.graph_objs as go\n",
    "import pandas as pd\n",
    "\n",
    "\n",
    "app = dash.Dash()\n",
    "\n",
    "app.layout = html.Div(children=[\n",
    "    html.Div([\n",
    "        dcc.Graph(figure=fig,id='g1',style={'display':'block','height': 450}),dcc.Graph(figure=table,id='table',style={'display':'block','height': 350})], style={'display': 'inline-block','height':900,'width':1250}),\n",
    "    html.Div([\n",
    "        html.P(\n",
    "           dcc.Markdown(paragraph),style={'height':350,'fontSize':17,'display':'block'})],style={'margin-left':2,'margin-right':0,'height':900,'width':250,'vertical-align':'top','display': 'inline-block'})\n",
    "        \n",
    "], style={'width': '100%', 'display': 'inline-block'})\n",
    "\n",
    "\n",
    "\n",
    "if __name__ == '__main__':\n",
    "    app.run_server(debug=False)"
   ]
  },
  {
   "cell_type": "code",
   "execution_count": null,
   "metadata": {},
   "outputs": [],
   "source": []
  }
 ],
 "metadata": {
  "kernelspec": {
   "display_name": "Python 3",
   "language": "python",
   "name": "python3"
  },
  "language_info": {
   "codemirror_mode": {
    "name": "ipython",
    "version": 3
   },
   "file_extension": ".py",
   "mimetype": "text/x-python",
   "name": "python",
   "nbconvert_exporter": "python",
   "pygments_lexer": "ipython3",
   "version": "3.8.3"
  }
 },
 "nbformat": 4,
 "nbformat_minor": 4
}
